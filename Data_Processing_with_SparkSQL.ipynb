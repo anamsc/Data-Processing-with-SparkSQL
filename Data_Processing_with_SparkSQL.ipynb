{
  "cells": [
    {
      "cell_type": "markdown",
      "metadata": {
        "application/vnd.databricks.v1+cell": {
          "cellMetadata": {},
          "inputWidgets": {},
          "nuid": "07e4feb4-7e4e-414a-a179-2b1813d0b70a",
          "showTitle": false,
          "title": ""
        },
        "id": "0XD-n2usVc7N"
      },
      "source": [
        "\n",
        "\n",
        "\n",
        "**Fecha:** 29/09/2023\n",
        "\n"
      ]
    },
    {
      "cell_type": "markdown",
      "metadata": {
        "application/vnd.databricks.v1+cell": {
          "cellMetadata": {},
          "inputWidgets": {},
          "nuid": "6b12687b-6672-452c-b835-140e777947aa",
          "showTitle": false,
          "title": ""
        },
        "id": "LIolCEqtVc7R"
      },
      "source": [
        "#**Procesamiento de datos a gran escala**\n",
        "\n",
        "\n",
        "\n",
        "*Desarrollo:*\n",
        "\n",
        "Empleamos los datos proporcionados por el conjunto de datos \"iris\".\n",
        "\n",
        "Este conjunto de datos es comunmente utilizado en análisis de datos y aprendizaje automático, contiene información sobre las diferentes especies de flores de iris, incluyendo medidas precisas de longitud y ancho de sépalos y pétalos.\n",
        "\n"
      ]
    },
    {
      "cell_type": "code",
      "execution_count": null,
      "metadata": {
        "application/vnd.databricks.v1+cell": {
          "cellMetadata": {
            "byteLimit": 2048000,
            "rowLimit": 10000
          },
          "inputWidgets": {},
          "nuid": "46470dd2-8f70-492d-9c37-f36f54b77ca2",
          "showTitle": false,
          "title": ""
        },
        "id": "E8dALYtKVc7S",
        "outputId": "d6c2683b-e164-4377-f716-ce726d7aac2a"
      },
      "outputs": [
        {
          "output_type": "display_data",
          "data": {
            "text/html": [
              "<style scoped>\n",
              "  .table-result-container {\n",
              "    max-height: 300px;\n",
              "    overflow: auto;\n",
              "  }\n",
              "  table, th, td {\n",
              "    border: 1px solid black;\n",
              "    border-collapse: collapse;\n",
              "  }\n",
              "  th, td {\n",
              "    padding: 5px;\n",
              "  }\n",
              "  th {\n",
              "    text-align: left;\n",
              "  }\n",
              "</style><div class='table-result-container'><table class='table-result'><thead style='background-color: white'><tr><th>path</th><th>name</th><th>size</th><th>modificationTime</th></tr></thead><tbody><tr><td>dbfs:/databricks-datasets/Rdatasets/data-001/csv/datasets/AirPassengers.csv</td><td>AirPassengers.csv</td><td>3326</td><td>1416619974000</td></tr><tr><td>dbfs:/databricks-datasets/Rdatasets/data-001/csv/datasets/BJsales.csv</td><td>BJsales.csv</td><td>2170</td><td>1416619974000</td></tr><tr><td>dbfs:/databricks-datasets/Rdatasets/data-001/csv/datasets/BOD.csv</td><td>BOD.csv</td><td>80</td><td>1416619974000</td></tr><tr><td>dbfs:/databricks-datasets/Rdatasets/data-001/csv/datasets/Formaldehyde.csv</td><td>Formaldehyde.csv</td><td>103</td><td>1416619974000</td></tr><tr><td>dbfs:/databricks-datasets/Rdatasets/data-001/csv/datasets/HairEyeColor.csv</td><td>HairEyeColor.csv</td><td>1005</td><td>1416619974000</td></tr><tr><td>dbfs:/databricks-datasets/Rdatasets/data-001/csv/datasets/InsectSprays.csv</td><td>InsectSprays.csv</td><td>836</td><td>1416619974000</td></tr><tr><td>dbfs:/databricks-datasets/Rdatasets/data-001/csv/datasets/JohnsonJohnson.csv</td><td>JohnsonJohnson.csv</td><td>1441</td><td>1416619975000</td></tr><tr><td>dbfs:/databricks-datasets/Rdatasets/data-001/csv/datasets/LakeHuron.csv</td><td>LakeHuron.csv</td><td>1667</td><td>1416619975000</td></tr><tr><td>dbfs:/databricks-datasets/Rdatasets/data-001/csv/datasets/LifeCycleSavings.csv</td><td>LifeCycleSavings.csv</td><td>1984</td><td>1416619975000</td></tr><tr><td>dbfs:/databricks-datasets/Rdatasets/data-001/csv/datasets/Nile.csv</td><td>Nile.csv</td><td>1439</td><td>1416619975000</td></tr><tr><td>dbfs:/databricks-datasets/Rdatasets/data-001/csv/datasets/OrchardSprays.csv</td><td>OrchardSprays.csv</td><td>1049</td><td>1416619975000</td></tr><tr><td>dbfs:/databricks-datasets/Rdatasets/data-001/csv/datasets/PlantGrowth.csv</td><td>PlantGrowth.csv</td><td>518</td><td>1416619975000</td></tr><tr><td>dbfs:/databricks-datasets/Rdatasets/data-001/csv/datasets/Puromycin.csv</td><td>Puromycin.csv</td><td>579</td><td>1416619975000</td></tr><tr><td>dbfs:/databricks-datasets/Rdatasets/data-001/csv/datasets/Titanic.csv</td><td>Titanic.csv</td><td>1170</td><td>1416619975000</td></tr><tr><td>dbfs:/databricks-datasets/Rdatasets/data-001/csv/datasets/ToothGrowth.csv</td><td>ToothGrowth.csv</td><td>1054</td><td>1416619975000</td></tr><tr><td>dbfs:/databricks-datasets/Rdatasets/data-001/csv/datasets/UCBAdmissions.csv</td><td>UCBAdmissions.csv</td><td>784</td><td>1416619975000</td></tr><tr><td>dbfs:/databricks-datasets/Rdatasets/data-001/csv/datasets/UKDriverDeaths.csv</td><td>UKDriverDeaths.csv</td><td>4655</td><td>1416619975000</td></tr><tr><td>dbfs:/databricks-datasets/Rdatasets/data-001/csv/datasets/UKgas.csv</td><td>UKgas.csv</td><td>1946</td><td>1416619975000</td></tr><tr><td>dbfs:/databricks-datasets/Rdatasets/data-001/csv/datasets/USAccDeaths.csv</td><td>USAccDeaths.csv</td><td>1728</td><td>1416619975000</td></tr><tr><td>dbfs:/databricks-datasets/Rdatasets/data-001/csv/datasets/USArrests.csv</td><td>USArrests.csv</td><td>1387</td><td>1416619975000</td></tr><tr><td>dbfs:/databricks-datasets/Rdatasets/data-001/csv/datasets/USJudgeRatings.csv</td><td>USJudgeRatings.csv</td><td>2659</td><td>1416619975000</td></tr><tr><td>dbfs:/databricks-datasets/Rdatasets/data-001/csv/datasets/USPersonalExpenditure.csv</td><td>USPersonalExpenditure.csv</td><td>255</td><td>1416619975000</td></tr><tr><td>dbfs:/databricks-datasets/Rdatasets/data-001/csv/datasets/VADeaths.csv</td><td>VADeaths.csv</td><td>189</td><td>1416619975000</td></tr><tr><td>dbfs:/databricks-datasets/Rdatasets/data-001/csv/datasets/WWWusage.csv</td><td>WWWusage.csv</td><td>1178</td><td>1416619975000</td></tr><tr><td>dbfs:/databricks-datasets/Rdatasets/data-001/csv/datasets/WorldPhones.csv</td><td>WorldPhones.csv</td><td>368</td><td>1416619975000</td></tr><tr><td>dbfs:/databricks-datasets/Rdatasets/data-001/csv/datasets/airmiles.csv</td><td>airmiles.csv</td><td>379</td><td>1416619975000</td></tr><tr><td>dbfs:/databricks-datasets/Rdatasets/data-001/csv/datasets/airquality.csv</td><td>airquality.csv</td><td>3715</td><td>1416619975000</td></tr><tr><td>dbfs:/databricks-datasets/Rdatasets/data-001/csv/datasets/anscombe.csv</td><td>anscombe.csv</td><td>413</td><td>1416619976000</td></tr><tr><td>dbfs:/databricks-datasets/Rdatasets/data-001/csv/datasets/attenu.csv</td><td>attenu.csv</td><td>5097</td><td>1416619976000</td></tr><tr><td>dbfs:/databricks-datasets/Rdatasets/data-001/csv/datasets/attitude.csv</td><td>attitude.csv</td><td>850</td><td>1416619976000</td></tr><tr><td>dbfs:/databricks-datasets/Rdatasets/data-001/csv/datasets/austres.csv</td><td>austres.csv</td><td>1774</td><td>1416619976000</td></tr><tr><td>dbfs:/databricks-datasets/Rdatasets/data-001/csv/datasets/cars.csv</td><td>cars.csv</td><td>552</td><td>1416619976000</td></tr><tr><td>dbfs:/databricks-datasets/Rdatasets/data-001/csv/datasets/chickwts.csv</td><td>chickwts.csv</td><td>1402</td><td>1416619976000</td></tr><tr><td>dbfs:/databricks-datasets/Rdatasets/data-001/csv/datasets/co2.csv</td><td>co2.csv</td><td>13816</td><td>1416619976000</td></tr><tr><td>dbfs:/databricks-datasets/Rdatasets/data-001/csv/datasets/crimtab.csv</td><td>crimtab.csv</td><td>2426</td><td>1416619976000</td></tr><tr><td>dbfs:/databricks-datasets/Rdatasets/data-001/csv/datasets/discoveries.csv</td><td>discoveries.csv</td><td>1218</td><td>1416619976000</td></tr><tr><td>dbfs:/databricks-datasets/Rdatasets/data-001/csv/datasets/esoph.csv</td><td>esoph.csv</td><td>3079</td><td>1416619976000</td></tr><tr><td>dbfs:/databricks-datasets/Rdatasets/data-001/csv/datasets/euro.csv</td><td>euro.csv</td><td>162</td><td>1416619976000</td></tr><tr><td>dbfs:/databricks-datasets/Rdatasets/data-001/csv/datasets/faithful.csv</td><td>faithful.csv</td><td>3802</td><td>1416619976000</td></tr><tr><td>dbfs:/databricks-datasets/Rdatasets/data-001/csv/datasets/freeny.csv</td><td>freeny.csv</td><td>1970</td><td>1416619976000</td></tr><tr><td>dbfs:/databricks-datasets/Rdatasets/data-001/csv/datasets/infert.csv</td><td>infert.csv</td><td>8098</td><td>1416619976000</td></tr><tr><td>dbfs:/databricks-datasets/Rdatasets/data-001/csv/datasets/iris.csv</td><td>iris.csv</td><td>4821</td><td>1416619976000</td></tr><tr><td>dbfs:/databricks-datasets/Rdatasets/data-001/csv/datasets/islands.csv</td><td>islands.csv</td><td>726</td><td>1416619976000</td></tr><tr><td>dbfs:/databricks-datasets/Rdatasets/data-001/csv/datasets/lh.csv</td><td>lh.csv</td><td>563</td><td>1416619976000</td></tr><tr><td>dbfs:/databricks-datasets/Rdatasets/data-001/csv/datasets/longley.csv</td><td>longley.csv</td><td>907</td><td>1416619976000</td></tr><tr><td>dbfs:/databricks-datasets/Rdatasets/data-001/csv/datasets/lynx.csv</td><td>lynx.csv</td><td>1663</td><td>1416619976000</td></tr><tr><td>dbfs:/databricks-datasets/Rdatasets/data-001/csv/datasets/morley.csv</td><td>morley.csv</td><td>1483</td><td>1416619976000</td></tr><tr><td>dbfs:/databricks-datasets/Rdatasets/data-001/csv/datasets/mtcars.csv</td><td>mtcars.csv</td><td>1783</td><td>1416619976000</td></tr><tr><td>dbfs:/databricks-datasets/Rdatasets/data-001/csv/datasets/nhtemp.csv</td><td>nhtemp.csv</td><td>898</td><td>1416619976000</td></tr><tr><td>dbfs:/databricks-datasets/Rdatasets/data-001/csv/datasets/nottem.csv</td><td>nottem.csv</td><td>5785</td><td>1416619976000</td></tr><tr><td>dbfs:/databricks-datasets/Rdatasets/data-001/csv/datasets/npk.csv</td><td>npk.csv</td><td>632</td><td>1416619976000</td></tr><tr><td>dbfs:/databricks-datasets/Rdatasets/data-001/csv/datasets/occupationalStatus.csv</td><td>occupationalStatus.csv</td><td>258</td><td>1416619976000</td></tr><tr><td>dbfs:/databricks-datasets/Rdatasets/data-001/csv/datasets/precip.csv</td><td>precip.csv</td><td>672</td><td>1416619977000</td></tr><tr><td>dbfs:/databricks-datasets/Rdatasets/data-001/csv/datasets/presidents.csv</td><td>presidents.csv</td><td>1835</td><td>1416619977000</td></tr><tr><td>dbfs:/databricks-datasets/Rdatasets/data-001/csv/datasets/pressure.csv</td><td>pressure.csv</td><td>272</td><td>1416619977000</td></tr><tr><td>dbfs:/databricks-datasets/Rdatasets/data-001/csv/datasets/quakes.csv</td><td>quakes.csv</td><td>29960</td><td>1416619977000</td></tr><tr><td>dbfs:/databricks-datasets/Rdatasets/data-001/csv/datasets/randu.csv</td><td>randu.csv</td><td>12965</td><td>1416619977000</td></tr><tr><td>dbfs:/databricks-datasets/Rdatasets/data-001/csv/datasets/rivers.csv</td><td>rivers.csv</td><td>1326</td><td>1416619977000</td></tr><tr><td>dbfs:/databricks-datasets/Rdatasets/data-001/csv/datasets/rock.csv</td><td>rock.csv</td><td>1530</td><td>1416619977000</td></tr><tr><td>dbfs:/databricks-datasets/Rdatasets/data-001/csv/datasets/sleep.csv</td><td>sleep.csv</td><td>358</td><td>1416619977000</td></tr><tr><td>dbfs:/databricks-datasets/Rdatasets/data-001/csv/datasets/stackloss.csv</td><td>stackloss.csv</td><td>396</td><td>1416619977000</td></tr><tr><td>dbfs:/databricks-datasets/Rdatasets/data-001/csv/datasets/sunspot.month.csv</td><td>sunspot.month.csv</td><td>79267</td><td>1416619977000</td></tr><tr><td>dbfs:/databricks-datasets/Rdatasets/data-001/csv/datasets/sunspot.year.csv</td><td>sunspot.year.csv</td><td>4375</td><td>1416619977000</td></tr><tr><td>dbfs:/databricks-datasets/Rdatasets/data-001/csv/datasets/sunspots.csv</td><td>sunspots.csv</td><td>79218</td><td>1416619977000</td></tr><tr><td>dbfs:/databricks-datasets/Rdatasets/data-001/csv/datasets/swiss.csv</td><td>swiss.csv</td><td>1757</td><td>1416619977000</td></tr><tr><td>dbfs:/databricks-datasets/Rdatasets/data-001/csv/datasets/treering.csv</td><td>treering.csv</td><td>145433</td><td>1416619977000</td></tr><tr><td>dbfs:/databricks-datasets/Rdatasets/data-001/csv/datasets/trees.csv</td><td>trees.csv</td><td>555</td><td>1416619977000</td></tr><tr><td>dbfs:/databricks-datasets/Rdatasets/data-001/csv/datasets/uspop.csv</td><td>uspop.csv</td><td>296</td><td>1416619977000</td></tr><tr><td>dbfs:/databricks-datasets/Rdatasets/data-001/csv/datasets/volcano.csv</td><td>volcano.csv</td><td>21596</td><td>1416619977000</td></tr><tr><td>dbfs:/databricks-datasets/Rdatasets/data-001/csv/datasets/warpbreaks.csv</td><td>warpbreaks.csv</td><td>884</td><td>1416619977000</td></tr><tr><td>dbfs:/databricks-datasets/Rdatasets/data-001/csv/datasets/women.csv</td><td>women.csv</td><td>192</td><td>1416619977000</td></tr></tbody></table></div>"
            ]
          },
          "metadata": {
            "application/vnd.databricks.v1+output": {
              "addedWidgets": {},
              "aggData": [],
              "aggError": "",
              "aggOverflow": false,
              "aggSchema": [],
              "aggSeriesLimitReached": false,
              "aggType": "",
              "arguments": {},
              "columnCustomDisplayInfos": {},
              "data": [
                [
                  "dbfs:/databricks-datasets/Rdatasets/data-001/csv/datasets/AirPassengers.csv",
                  "AirPassengers.csv",
                  3326,
                  1416619974000
                ],
                [
                  "dbfs:/databricks-datasets/Rdatasets/data-001/csv/datasets/BJsales.csv",
                  "BJsales.csv",
                  2170,
                  1416619974000
                ],
                [
                  "dbfs:/databricks-datasets/Rdatasets/data-001/csv/datasets/BOD.csv",
                  "BOD.csv",
                  80,
                  1416619974000
                ],
                [
                  "dbfs:/databricks-datasets/Rdatasets/data-001/csv/datasets/Formaldehyde.csv",
                  "Formaldehyde.csv",
                  103,
                  1416619974000
                ],
                [
                  "dbfs:/databricks-datasets/Rdatasets/data-001/csv/datasets/HairEyeColor.csv",
                  "HairEyeColor.csv",
                  1005,
                  1416619974000
                ],
                [
                  "dbfs:/databricks-datasets/Rdatasets/data-001/csv/datasets/InsectSprays.csv",
                  "InsectSprays.csv",
                  836,
                  1416619974000
                ],
                [
                  "dbfs:/databricks-datasets/Rdatasets/data-001/csv/datasets/JohnsonJohnson.csv",
                  "JohnsonJohnson.csv",
                  1441,
                  1416619975000
                ],
                [
                  "dbfs:/databricks-datasets/Rdatasets/data-001/csv/datasets/LakeHuron.csv",
                  "LakeHuron.csv",
                  1667,
                  1416619975000
                ],
                [
                  "dbfs:/databricks-datasets/Rdatasets/data-001/csv/datasets/LifeCycleSavings.csv",
                  "LifeCycleSavings.csv",
                  1984,
                  1416619975000
                ],
                [
                  "dbfs:/databricks-datasets/Rdatasets/data-001/csv/datasets/Nile.csv",
                  "Nile.csv",
                  1439,
                  1416619975000
                ],
                [
                  "dbfs:/databricks-datasets/Rdatasets/data-001/csv/datasets/OrchardSprays.csv",
                  "OrchardSprays.csv",
                  1049,
                  1416619975000
                ],
                [
                  "dbfs:/databricks-datasets/Rdatasets/data-001/csv/datasets/PlantGrowth.csv",
                  "PlantGrowth.csv",
                  518,
                  1416619975000
                ],
                [
                  "dbfs:/databricks-datasets/Rdatasets/data-001/csv/datasets/Puromycin.csv",
                  "Puromycin.csv",
                  579,
                  1416619975000
                ],
                [
                  "dbfs:/databricks-datasets/Rdatasets/data-001/csv/datasets/Titanic.csv",
                  "Titanic.csv",
                  1170,
                  1416619975000
                ],
                [
                  "dbfs:/databricks-datasets/Rdatasets/data-001/csv/datasets/ToothGrowth.csv",
                  "ToothGrowth.csv",
                  1054,
                  1416619975000
                ],
                [
                  "dbfs:/databricks-datasets/Rdatasets/data-001/csv/datasets/UCBAdmissions.csv",
                  "UCBAdmissions.csv",
                  784,
                  1416619975000
                ],
                [
                  "dbfs:/databricks-datasets/Rdatasets/data-001/csv/datasets/UKDriverDeaths.csv",
                  "UKDriverDeaths.csv",
                  4655,
                  1416619975000
                ],
                [
                  "dbfs:/databricks-datasets/Rdatasets/data-001/csv/datasets/UKgas.csv",
                  "UKgas.csv",
                  1946,
                  1416619975000
                ],
                [
                  "dbfs:/databricks-datasets/Rdatasets/data-001/csv/datasets/USAccDeaths.csv",
                  "USAccDeaths.csv",
                  1728,
                  1416619975000
                ],
                [
                  "dbfs:/databricks-datasets/Rdatasets/data-001/csv/datasets/USArrests.csv",
                  "USArrests.csv",
                  1387,
                  1416619975000
                ],
                [
                  "dbfs:/databricks-datasets/Rdatasets/data-001/csv/datasets/USJudgeRatings.csv",
                  "USJudgeRatings.csv",
                  2659,
                  1416619975000
                ],
                [
                  "dbfs:/databricks-datasets/Rdatasets/data-001/csv/datasets/USPersonalExpenditure.csv",
                  "USPersonalExpenditure.csv",
                  255,
                  1416619975000
                ],
                [
                  "dbfs:/databricks-datasets/Rdatasets/data-001/csv/datasets/VADeaths.csv",
                  "VADeaths.csv",
                  189,
                  1416619975000
                ],
                [
                  "dbfs:/databricks-datasets/Rdatasets/data-001/csv/datasets/WWWusage.csv",
                  "WWWusage.csv",
                  1178,
                  1416619975000
                ],
                [
                  "dbfs:/databricks-datasets/Rdatasets/data-001/csv/datasets/WorldPhones.csv",
                  "WorldPhones.csv",
                  368,
                  1416619975000
                ],
                [
                  "dbfs:/databricks-datasets/Rdatasets/data-001/csv/datasets/airmiles.csv",
                  "airmiles.csv",
                  379,
                  1416619975000
                ],
                [
                  "dbfs:/databricks-datasets/Rdatasets/data-001/csv/datasets/airquality.csv",
                  "airquality.csv",
                  3715,
                  1416619975000
                ],
                [
                  "dbfs:/databricks-datasets/Rdatasets/data-001/csv/datasets/anscombe.csv",
                  "anscombe.csv",
                  413,
                  1416619976000
                ],
                [
                  "dbfs:/databricks-datasets/Rdatasets/data-001/csv/datasets/attenu.csv",
                  "attenu.csv",
                  5097,
                  1416619976000
                ],
                [
                  "dbfs:/databricks-datasets/Rdatasets/data-001/csv/datasets/attitude.csv",
                  "attitude.csv",
                  850,
                  1416619976000
                ],
                [
                  "dbfs:/databricks-datasets/Rdatasets/data-001/csv/datasets/austres.csv",
                  "austres.csv",
                  1774,
                  1416619976000
                ],
                [
                  "dbfs:/databricks-datasets/Rdatasets/data-001/csv/datasets/cars.csv",
                  "cars.csv",
                  552,
                  1416619976000
                ],
                [
                  "dbfs:/databricks-datasets/Rdatasets/data-001/csv/datasets/chickwts.csv",
                  "chickwts.csv",
                  1402,
                  1416619976000
                ],
                [
                  "dbfs:/databricks-datasets/Rdatasets/data-001/csv/datasets/co2.csv",
                  "co2.csv",
                  13816,
                  1416619976000
                ],
                [
                  "dbfs:/databricks-datasets/Rdatasets/data-001/csv/datasets/crimtab.csv",
                  "crimtab.csv",
                  2426,
                  1416619976000
                ],
                [
                  "dbfs:/databricks-datasets/Rdatasets/data-001/csv/datasets/discoveries.csv",
                  "discoveries.csv",
                  1218,
                  1416619976000
                ],
                [
                  "dbfs:/databricks-datasets/Rdatasets/data-001/csv/datasets/esoph.csv",
                  "esoph.csv",
                  3079,
                  1416619976000
                ],
                [
                  "dbfs:/databricks-datasets/Rdatasets/data-001/csv/datasets/euro.csv",
                  "euro.csv",
                  162,
                  1416619976000
                ],
                [
                  "dbfs:/databricks-datasets/Rdatasets/data-001/csv/datasets/faithful.csv",
                  "faithful.csv",
                  3802,
                  1416619976000
                ],
                [
                  "dbfs:/databricks-datasets/Rdatasets/data-001/csv/datasets/freeny.csv",
                  "freeny.csv",
                  1970,
                  1416619976000
                ],
                [
                  "dbfs:/databricks-datasets/Rdatasets/data-001/csv/datasets/infert.csv",
                  "infert.csv",
                  8098,
                  1416619976000
                ],
                [
                  "dbfs:/databricks-datasets/Rdatasets/data-001/csv/datasets/iris.csv",
                  "iris.csv",
                  4821,
                  1416619976000
                ],
                [
                  "dbfs:/databricks-datasets/Rdatasets/data-001/csv/datasets/islands.csv",
                  "islands.csv",
                  726,
                  1416619976000
                ],
                [
                  "dbfs:/databricks-datasets/Rdatasets/data-001/csv/datasets/lh.csv",
                  "lh.csv",
                  563,
                  1416619976000
                ],
                [
                  "dbfs:/databricks-datasets/Rdatasets/data-001/csv/datasets/longley.csv",
                  "longley.csv",
                  907,
                  1416619976000
                ],
                [
                  "dbfs:/databricks-datasets/Rdatasets/data-001/csv/datasets/lynx.csv",
                  "lynx.csv",
                  1663,
                  1416619976000
                ],
                [
                  "dbfs:/databricks-datasets/Rdatasets/data-001/csv/datasets/morley.csv",
                  "morley.csv",
                  1483,
                  1416619976000
                ],
                [
                  "dbfs:/databricks-datasets/Rdatasets/data-001/csv/datasets/mtcars.csv",
                  "mtcars.csv",
                  1783,
                  1416619976000
                ],
                [
                  "dbfs:/databricks-datasets/Rdatasets/data-001/csv/datasets/nhtemp.csv",
                  "nhtemp.csv",
                  898,
                  1416619976000
                ],
                [
                  "dbfs:/databricks-datasets/Rdatasets/data-001/csv/datasets/nottem.csv",
                  "nottem.csv",
                  5785,
                  1416619976000
                ],
                [
                  "dbfs:/databricks-datasets/Rdatasets/data-001/csv/datasets/npk.csv",
                  "npk.csv",
                  632,
                  1416619976000
                ],
                [
                  "dbfs:/databricks-datasets/Rdatasets/data-001/csv/datasets/occupationalStatus.csv",
                  "occupationalStatus.csv",
                  258,
                  1416619976000
                ],
                [
                  "dbfs:/databricks-datasets/Rdatasets/data-001/csv/datasets/precip.csv",
                  "precip.csv",
                  672,
                  1416619977000
                ],
                [
                  "dbfs:/databricks-datasets/Rdatasets/data-001/csv/datasets/presidents.csv",
                  "presidents.csv",
                  1835,
                  1416619977000
                ],
                [
                  "dbfs:/databricks-datasets/Rdatasets/data-001/csv/datasets/pressure.csv",
                  "pressure.csv",
                  272,
                  1416619977000
                ],
                [
                  "dbfs:/databricks-datasets/Rdatasets/data-001/csv/datasets/quakes.csv",
                  "quakes.csv",
                  29960,
                  1416619977000
                ],
                [
                  "dbfs:/databricks-datasets/Rdatasets/data-001/csv/datasets/randu.csv",
                  "randu.csv",
                  12965,
                  1416619977000
                ],
                [
                  "dbfs:/databricks-datasets/Rdatasets/data-001/csv/datasets/rivers.csv",
                  "rivers.csv",
                  1326,
                  1416619977000
                ],
                [
                  "dbfs:/databricks-datasets/Rdatasets/data-001/csv/datasets/rock.csv",
                  "rock.csv",
                  1530,
                  1416619977000
                ],
                [
                  "dbfs:/databricks-datasets/Rdatasets/data-001/csv/datasets/sleep.csv",
                  "sleep.csv",
                  358,
                  1416619977000
                ],
                [
                  "dbfs:/databricks-datasets/Rdatasets/data-001/csv/datasets/stackloss.csv",
                  "stackloss.csv",
                  396,
                  1416619977000
                ],
                [
                  "dbfs:/databricks-datasets/Rdatasets/data-001/csv/datasets/sunspot.month.csv",
                  "sunspot.month.csv",
                  79267,
                  1416619977000
                ],
                [
                  "dbfs:/databricks-datasets/Rdatasets/data-001/csv/datasets/sunspot.year.csv",
                  "sunspot.year.csv",
                  4375,
                  1416619977000
                ],
                [
                  "dbfs:/databricks-datasets/Rdatasets/data-001/csv/datasets/sunspots.csv",
                  "sunspots.csv",
                  79218,
                  1416619977000
                ],
                [
                  "dbfs:/databricks-datasets/Rdatasets/data-001/csv/datasets/swiss.csv",
                  "swiss.csv",
                  1757,
                  1416619977000
                ],
                [
                  "dbfs:/databricks-datasets/Rdatasets/data-001/csv/datasets/treering.csv",
                  "treering.csv",
                  145433,
                  1416619977000
                ],
                [
                  "dbfs:/databricks-datasets/Rdatasets/data-001/csv/datasets/trees.csv",
                  "trees.csv",
                  555,
                  1416619977000
                ],
                [
                  "dbfs:/databricks-datasets/Rdatasets/data-001/csv/datasets/uspop.csv",
                  "uspop.csv",
                  296,
                  1416619977000
                ],
                [
                  "dbfs:/databricks-datasets/Rdatasets/data-001/csv/datasets/volcano.csv",
                  "volcano.csv",
                  21596,
                  1416619977000
                ],
                [
                  "dbfs:/databricks-datasets/Rdatasets/data-001/csv/datasets/warpbreaks.csv",
                  "warpbreaks.csv",
                  884,
                  1416619977000
                ],
                [
                  "dbfs:/databricks-datasets/Rdatasets/data-001/csv/datasets/women.csv",
                  "women.csv",
                  192,
                  1416619977000
                ]
              ],
              "datasetInfos": [],
              "dbfsResultPath": null,
              "isJsonSchema": true,
              "metadata": {},
              "overflow": false,
              "plotOptions": {
                "customPlotOptions": {},
                "displayType": "table",
                "pivotAggregation": null,
                "pivotColumns": null,
                "xColumns": null,
                "yColumns": null
              },
              "removedWidgets": [],
              "schema": [
                {
                  "metadata": "{}",
                  "name": "path",
                  "type": "\"string\""
                },
                {
                  "metadata": "{}",
                  "name": "name",
                  "type": "\"string\""
                },
                {
                  "metadata": "{}",
                  "name": "size",
                  "type": "\"long\""
                },
                {
                  "metadata": "{}",
                  "name": "modificationTime",
                  "type": "\"long\""
                }
              ],
              "type": "table"
            }
          }
        }
      ],
      "source": [
        "display(dbutils.fs.ls('/databricks-datasets/Rdatasets/data-001/csv/datasets/'))"
      ]
    },
    {
      "cell_type": "code",
      "execution_count": null,
      "metadata": {
        "application/vnd.databricks.v1+cell": {
          "cellMetadata": {
            "byteLimit": 2048000,
            "rowLimit": 10000
          },
          "inputWidgets": {},
          "nuid": "83f7dfb9-63d1-4a07-9774-9d9c43942b3c",
          "showTitle": false,
          "title": ""
        },
        "id": "WS-sSkNKVc7V"
      },
      "outputs": [],
      "source": [
        "iris = spark.read.csv(\"/databricks-datasets/Rdatasets/data-001/csv/datasets/iris.csv\", header=True, inferSchema=True)"
      ]
    },
    {
      "cell_type": "code",
      "execution_count": null,
      "metadata": {
        "application/vnd.databricks.v1+cell": {
          "cellMetadata": {
            "byteLimit": 2048000,
            "rowLimit": 10000
          },
          "inputWidgets": {},
          "nuid": "0a0093fd-9a37-4f5f-8334-b615cbe37b16",
          "showTitle": false,
          "title": ""
        },
        "id": "tpRH4As1Vc7V",
        "outputId": "7fb0d40e-0976-4a1b-c97e-e07cfdb02269"
      },
      "outputs": [
        {
          "output_type": "stream",
          "name": "stdout",
          "text": [
            "+---+------------+-----------+------------+-----------+-------+\n|_c0|Sepal.Length|Sepal.Width|Petal.Length|Petal.Width|Species|\n+---+------------+-----------+------------+-----------+-------+\n|  1|         5.1|        3.5|         1.4|        0.2| setosa|\n|  2|         4.9|        3.0|         1.4|        0.2| setosa|\n|  3|         4.7|        3.2|         1.3|        0.2| setosa|\n|  4|         4.6|        3.1|         1.5|        0.2| setosa|\n|  5|         5.0|        3.6|         1.4|        0.2| setosa|\n|  6|         5.4|        3.9|         1.7|        0.4| setosa|\n|  7|         4.6|        3.4|         1.4|        0.3| setosa|\n|  8|         5.0|        3.4|         1.5|        0.2| setosa|\n|  9|         4.4|        2.9|         1.4|        0.2| setosa|\n| 10|         4.9|        3.1|         1.5|        0.1| setosa|\n| 11|         5.4|        3.7|         1.5|        0.2| setosa|\n| 12|         4.8|        3.4|         1.6|        0.2| setosa|\n| 13|         4.8|        3.0|         1.4|        0.1| setosa|\n| 14|         4.3|        3.0|         1.1|        0.1| setosa|\n| 15|         5.8|        4.0|         1.2|        0.2| setosa|\n| 16|         5.7|        4.4|         1.5|        0.4| setosa|\n| 17|         5.4|        3.9|         1.3|        0.4| setosa|\n| 18|         5.1|        3.5|         1.4|        0.3| setosa|\n| 19|         5.7|        3.8|         1.7|        0.3| setosa|\n| 20|         5.1|        3.8|         1.5|        0.3| setosa|\n+---+------------+-----------+------------+-----------+-------+\nonly showing top 20 rows\n\n"
          ]
        }
      ],
      "source": [
        "iris.show()"
      ]
    },
    {
      "cell_type": "code",
      "execution_count": null,
      "metadata": {
        "application/vnd.databricks.v1+cell": {
          "cellMetadata": {
            "byteLimit": 2048000,
            "rowLimit": 10000
          },
          "inputWidgets": {},
          "nuid": "bd6e38fc-9d3c-477f-9b79-eff60392838c",
          "showTitle": false,
          "title": ""
        },
        "id": "NLAI0uQ_Vc7V",
        "outputId": "278cc94f-f9e4-4d9c-db73-122b04f8d1a1"
      },
      "outputs": [
        {
          "output_type": "stream",
          "name": "stdout",
          "text": [
            "Out[19]: 150"
          ]
        }
      ],
      "source": [
        "iris.count()"
      ]
    },
    {
      "cell_type": "code",
      "execution_count": null,
      "metadata": {
        "application/vnd.databricks.v1+cell": {
          "cellMetadata": {
            "byteLimit": 2048000,
            "rowLimit": 10000
          },
          "inputWidgets": {},
          "nuid": "bd9b77ec-dc05-4535-bcac-a72136c33e9e",
          "showTitle": false,
          "title": ""
        },
        "id": "DsS-itP2Vc7W",
        "outputId": "842d11a6-efd5-4032-8808-9de41a5808e9"
      },
      "outputs": [
        {
          "output_type": "stream",
          "name": "stdout",
          "text": [
            "+---+------------+-----------+------------+-----------+-------+\n|_c0|Sepal.Length|Sepal.Width|Petal.Length|Petal.Width|Species|\n+---+------------+-----------+------------+-----------+-------+\n|  1|         5.1|        3.5|         1.4|        0.2| setosa|\n|  2|         4.9|        3.0|         1.4|        0.2| setosa|\n|  3|         4.7|        3.2|         1.3|        0.2| setosa|\n|  4|         4.6|        3.1|         1.5|        0.2| setosa|\n|  5|         5.0|        3.6|         1.4|        0.2| setosa|\n|  6|         5.4|        3.9|         1.7|        0.4| setosa|\n|  7|         4.6|        3.4|         1.4|        0.3| setosa|\n|  8|         5.0|        3.4|         1.5|        0.2| setosa|\n|  9|         4.4|        2.9|         1.4|        0.2| setosa|\n| 10|         4.9|        3.1|         1.5|        0.1| setosa|\n| 11|         5.4|        3.7|         1.5|        0.2| setosa|\n| 12|         4.8|        3.4|         1.6|        0.2| setosa|\n| 13|         4.8|        3.0|         1.4|        0.1| setosa|\n| 14|         4.3|        3.0|         1.1|        0.1| setosa|\n| 15|         5.8|        4.0|         1.2|        0.2| setosa|\n| 16|         5.7|        4.4|         1.5|        0.4| setosa|\n| 17|         5.4|        3.9|         1.3|        0.4| setosa|\n| 18|         5.1|        3.5|         1.4|        0.3| setosa|\n| 19|         5.7|        3.8|         1.7|        0.3| setosa|\n| 20|         5.1|        3.8|         1.5|        0.3| setosa|\n+---+------------+-----------+------------+-----------+-------+\nonly showing top 20 rows\n\n"
          ]
        }
      ],
      "source": [
        "iris.filter(iris[\"Species\"] == \"setosa\").show()"
      ]
    },
    {
      "cell_type": "code",
      "execution_count": null,
      "metadata": {
        "application/vnd.databricks.v1+cell": {
          "cellMetadata": {
            "byteLimit": 2048000,
            "rowLimit": 10000
          },
          "inputWidgets": {},
          "nuid": "7737a2a3-61d5-4185-87ad-18c998133ea8",
          "showTitle": false,
          "title": ""
        },
        "id": "uU0JWfw5Vc7W",
        "outputId": "4d25bb59-45b5-43d3-d873-e08c582068f8"
      },
      "outputs": [
        {
          "output_type": "stream",
          "name": "stdout",
          "text": [
            "+----------+-----------------+\n|   Species|avg(Sepal.Length)|\n+----------+-----------------+\n| virginica|6.587999999999998|\n|versicolor|            5.936|\n|    setosa|5.005999999999999|\n+----------+-----------------+\n\n"
          ]
        }
      ],
      "source": [
        "iris.groupBy(\"Species\").avg(\"`Sepal.Length`\").show()"
      ]
    },
    {
      "cell_type": "markdown",
      "metadata": {
        "application/vnd.databricks.v1+cell": {
          "cellMetadata": {},
          "inputWidgets": {},
          "nuid": "1425ce3b-dd84-471c-ba62-e4f3fc8c11d3",
          "showTitle": false,
          "title": ""
        },
        "id": "Rss1KQmaVc7X"
      },
      "source": [
        "#**2.  Preguntas**\n",
        "\n",
        "\n",
        "\n",
        "      - A.  ¿Cuán dispersas están las medidas de las flores dentro de cada tipo de iris?\n",
        "\n",
        "      - B.  ¿Existe alguna relación entre la longitud y el ancho de las partes de la flor en los iris?\n",
        "\n",
        "      - C.  ¿Cómo varían las medidas de las flores de iris según su tipo?\n",
        "\n",
        "  "
      ]
    },
    {
      "cell_type": "code",
      "execution_count": null,
      "metadata": {
        "application/vnd.databricks.v1+cell": {
          "cellMetadata": {
            "byteLimit": 2048000,
            "rowLimit": 10000
          },
          "inputWidgets": {},
          "nuid": "017c4db3-2dbb-43ca-85e1-b53626221191",
          "showTitle": false,
          "title": ""
        },
        "id": "OF1rxwQhVc7X",
        "outputId": "5b7ae5d3-83b3-422c-a7c6-fb63a92397fd"
      },
      "outputs": [
        {
          "output_type": "display_data",
          "data": {
            "text/html": [
              "<style scoped>\n",
              "  .table-result-container {\n",
              "    max-height: 300px;\n",
              "    overflow: auto;\n",
              "  }\n",
              "  table, th, td {\n",
              "    border: 1px solid black;\n",
              "    border-collapse: collapse;\n",
              "  }\n",
              "  th, td {\n",
              "    padding: 5px;\n",
              "  }\n",
              "  th {\n",
              "    text-align: left;\n",
              "  }\n",
              "</style><div class='table-result-container'><table class='table-result'><thead style='background-color: white'><tr><th>Species</th><th>Sepal_Length_StdDev</th><th>Sepal_Width_StdDev</th><th>Petal_Length_StdDev</th><th>Petal_Width_StdDev</th></tr></thead><tbody><tr><td>virginica</td><td>0.635879593274432</td><td>0.3224966381726375</td><td>0.5518946956639833</td><td>0.2746500556366674</td></tr><tr><td>versicolor</td><td>0.5161711470638635</td><td>0.3137983233784114</td><td>0.4699109772399579</td><td>0.19775268000454407</td></tr><tr><td>setosa</td><td>0.3524896872134513</td><td>0.3790643690962886</td><td>0.1736639964801841</td><td>0.10538558938004565</td></tr></tbody></table></div>"
            ]
          },
          "metadata": {
            "application/vnd.databricks.v1+output": {
              "addedWidgets": {},
              "aggData": [],
              "aggError": "",
              "aggOverflow": false,
              "aggSchema": [],
              "aggSeriesLimitReached": false,
              "aggType": "",
              "arguments": {},
              "columnCustomDisplayInfos": {},
              "data": [
                [
                  "virginica",
                  0.635879593274432,
                  0.3224966381726375,
                  0.5518946956639833,
                  0.2746500556366674
                ],
                [
                  "versicolor",
                  0.5161711470638635,
                  0.3137983233784114,
                  0.4699109772399579,
                  0.19775268000454407
                ],
                [
                  "setosa",
                  0.3524896872134513,
                  0.3790643690962886,
                  0.1736639964801841,
                  0.10538558938004565
                ]
              ],
              "datasetInfos": [],
              "dbfsResultPath": null,
              "isJsonSchema": true,
              "metadata": {},
              "overflow": false,
              "plotOptions": {
                "customPlotOptions": {},
                "displayType": "table",
                "pivotAggregation": null,
                "pivotColumns": null,
                "xColumns": null,
                "yColumns": null
              },
              "removedWidgets": [],
              "schema": [
                {
                  "metadata": "{}",
                  "name": "Species",
                  "type": "\"string\""
                },
                {
                  "metadata": "{}",
                  "name": "Sepal_Length_StdDev",
                  "type": "\"double\""
                },
                {
                  "metadata": "{}",
                  "name": "Sepal_Width_StdDev",
                  "type": "\"double\""
                },
                {
                  "metadata": "{}",
                  "name": "Petal_Length_StdDev",
                  "type": "\"double\""
                },
                {
                  "metadata": "{}",
                  "name": "Petal_Width_StdDev",
                  "type": "\"double\""
                }
              ],
              "type": "table"
            }
          }
        }
      ],
      "source": [
        "#Procedimiento para responder a la pregunta A:\n",
        "# Importación la librería necesaria\n",
        "from pyspark.sql.functions import stddev\n",
        "\n",
        "# Calculo de la dispersión de las medidas de sépalo y pétalo para cada tipo de iris\n",
        "iris_dispersion = iris.groupBy(\"Species\").agg(\n",
        "    stddev(\"`Sepal.Length`\").alias(\"Sepal_Length_StdDev\"),\n",
        "    stddev(\"`Sepal.Width`\").alias(\"Sepal_Width_StdDev\"),\n",
        "    stddev(\"`Petal.Length`\").alias(\"Petal_Length_StdDev\"),\n",
        "    stddev(\"`Petal.Width`\").alias(\"Petal_Width_StdDev\")\n",
        ")\n",
        "\n",
        "# Mostrar los resultados\n",
        "display(iris_dispersion)\n",
        "\n"
      ]
    },
    {
      "cell_type": "markdown",
      "metadata": {
        "application/vnd.databricks.v1+cell": {
          "cellMetadata": {},
          "inputWidgets": {},
          "nuid": "452f4f9c-2689-4a03-bf8b-288a13b88387",
          "showTitle": false,
          "title": ""
        },
        "id": "jWnFoIIwVc7Y"
      },
      "source": [
        "**Respuesta A:**\n",
        "\n",
        "Las medidas de las flores de la especie \"virginica\" tienden a ser las más dispersas, ya que tienen las desviaciones estándar más altas en todas las dimensiones.\n",
        "\n",
        "La especie \"setosa\" es la flor que tiende a ser la menos dispersa, porque sus desviaciones son las menores."
      ]
    },
    {
      "cell_type": "code",
      "execution_count": null,
      "metadata": {
        "application/vnd.databricks.v1+cell": {
          "cellMetadata": {
            "byteLimit": 2048000,
            "rowLimit": 10000
          },
          "inputWidgets": {},
          "nuid": "c63c9842-0714-47be-967e-c8ffaa1c343b",
          "showTitle": false,
          "title": ""
        },
        "id": "ug4qz2BZVc7Y",
        "outputId": "2c8ace8f-4020-42c6-e30f-14eec96c1d49"
      },
      "outputs": [
        {
          "output_type": "display_data",
          "data": {
            "text/html": [
              "<style scoped>\n",
              "  .table-result-container {\n",
              "    max-height: 300px;\n",
              "    overflow: auto;\n",
              "  }\n",
              "  table, th, td {\n",
              "    border: 1px solid black;\n",
              "    border-collapse: collapse;\n",
              "  }\n",
              "  th, td {\n",
              "    padding: 5px;\n",
              "  }\n",
              "  th {\n",
              "    text-align: left;\n",
              "  }\n",
              "</style><div class='table-result-container'><table class='table-result'><thead style='background-color: white'><tr><th>Sepal_Length_Width_Corr</th><th>Petal_Length_Width_Corr</th></tr></thead><tbody><tr><td>-0.11756978413300088</td><td>0.962865431402796</td></tr></tbody></table></div>"
            ]
          },
          "metadata": {
            "application/vnd.databricks.v1+output": {
              "addedWidgets": {},
              "aggData": [],
              "aggError": "",
              "aggOverflow": false,
              "aggSchema": [],
              "aggSeriesLimitReached": false,
              "aggType": "",
              "arguments": {},
              "columnCustomDisplayInfos": {},
              "data": [
                [
                  -0.11756978413300088,
                  0.962865431402796
                ]
              ],
              "datasetInfos": [],
              "dbfsResultPath": null,
              "isJsonSchema": true,
              "metadata": {},
              "overflow": false,
              "plotOptions": {
                "customPlotOptions": {},
                "displayType": "table",
                "pivotAggregation": null,
                "pivotColumns": null,
                "xColumns": null,
                "yColumns": null
              },
              "removedWidgets": [],
              "schema": [
                {
                  "metadata": "{}",
                  "name": "Sepal_Length_Width_Corr",
                  "type": "\"double\""
                },
                {
                  "metadata": "{}",
                  "name": "Petal_Length_Width_Corr",
                  "type": "\"double\""
                }
              ],
              "type": "table"
            }
          }
        }
      ],
      "source": [
        "#Procedimiento para responder la pregunta B:\n",
        "# Importación la librería necesaria para cálculo de correlación\n",
        "from pyspark.sql.functions import corr\n",
        "\n",
        "# Calculo de la correlación entre la longitud y el ancho de sépalo y pétalo\n",
        "iris_correlation = iris.select(\n",
        "    corr(\"`Sepal.Length`\", \"`Sepal.Width`\").alias(\"Sepal_Length_Width_Corr\"),\n",
        "    corr(\"`Petal.Length`\", \"`Petal.Width`\").alias(\"Petal_Length_Width_Corr\")\n",
        ")\n",
        "\n",
        "# Mostrar los resultados\n",
        "display(iris_correlation)\n",
        "\n"
      ]
    },
    {
      "cell_type": "markdown",
      "metadata": {
        "application/vnd.databricks.v1+cell": {
          "cellMetadata": {},
          "inputWidgets": {},
          "nuid": "4ce2c936-e0f2-47d3-a2a8-7565d7ce3597",
          "showTitle": false,
          "title": ""
        },
        "id": "WO4EGqYDVc7Z"
      },
      "source": [
        "**Respuesta B:**\n",
        "\n",
        "La correlación entre la longitud y el ancho de sépalo es aproximadamente -0.11, lo que sugiere una correlación negativa débil, lo que significa que a medida que la longitud del sépalo aumenta,tiende a disminuir su ancho. La correlación entre la longitud y el ancho de pétalo es más alta, alrededor de 0.96, lo que indica una correlación positiva alta, lo que significa que a medida que la longitud del péetalo aumenta, tambien tiende a aumentar su ancho."
      ]
    },
    {
      "cell_type": "code",
      "execution_count": null,
      "metadata": {
        "application/vnd.databricks.v1+cell": {
          "cellMetadata": {
            "byteLimit": 2048000,
            "rowLimit": 10000
          },
          "inputWidgets": {},
          "nuid": "b7151bc1-d302-489d-ad20-b91b96abfca7",
          "showTitle": false,
          "title": ""
        },
        "id": "fpGhBg0nVc7Z",
        "outputId": "7cc7b9f3-6511-441f-fb76-fc3a6d4961a4"
      },
      "outputs": [
        {
          "output_type": "display_data",
          "data": {
            "text/html": [
              "<style scoped>\n",
              "  .table-result-container {\n",
              "    max-height: 300px;\n",
              "    overflow: auto;\n",
              "  }\n",
              "  table, th, td {\n",
              "    border: 1px solid black;\n",
              "    border-collapse: collapse;\n",
              "  }\n",
              "  th, td {\n",
              "    padding: 5px;\n",
              "  }\n",
              "  th {\n",
              "    text-align: left;\n",
              "  }\n",
              "</style><div class='table-result-container'><table class='table-result'><thead style='background-color: white'><tr><th>Species</th><th>Avg_Sepal_Length</th><th>Avg_Sepal_Width</th><th>Avg_Petal_Length</th><th>Avg_Petal_Width</th></tr></thead><tbody><tr><td>virginica</td><td>6.587999999999998</td><td>2.9739999999999998</td><td>5.552</td><td>2.026</td></tr><tr><td>versicolor</td><td>5.936</td><td>2.7700000000000005</td><td>4.26</td><td>1.3259999999999998</td></tr><tr><td>setosa</td><td>5.005999999999999</td><td>3.428000000000001</td><td>1.4620000000000002</td><td>0.2459999999999999</td></tr></tbody></table></div>"
            ]
          },
          "metadata": {
            "application/vnd.databricks.v1+output": {
              "addedWidgets": {},
              "aggData": [],
              "aggError": "",
              "aggOverflow": false,
              "aggSchema": [],
              "aggSeriesLimitReached": false,
              "aggType": "",
              "arguments": {},
              "columnCustomDisplayInfos": {},
              "data": [
                [
                  "virginica",
                  6.587999999999998,
                  2.9739999999999998,
                  5.552,
                  2.026
                ],
                [
                  "versicolor",
                  5.936,
                  2.7700000000000005,
                  4.26,
                  1.3259999999999998
                ],
                [
                  "setosa",
                  5.005999999999999,
                  3.428000000000001,
                  1.4620000000000002,
                  0.2459999999999999
                ]
              ],
              "datasetInfos": [],
              "dbfsResultPath": null,
              "isJsonSchema": true,
              "metadata": {},
              "overflow": false,
              "plotOptions": {
                "customPlotOptions": {},
                "displayType": "table",
                "pivotAggregation": null,
                "pivotColumns": null,
                "xColumns": null,
                "yColumns": null
              },
              "removedWidgets": [],
              "schema": [
                {
                  "metadata": "{}",
                  "name": "Species",
                  "type": "\"string\""
                },
                {
                  "metadata": "{}",
                  "name": "Avg_Sepal_Length",
                  "type": "\"double\""
                },
                {
                  "metadata": "{}",
                  "name": "Avg_Sepal_Width",
                  "type": "\"double\""
                },
                {
                  "metadata": "{}",
                  "name": "Avg_Petal_Length",
                  "type": "\"double\""
                },
                {
                  "metadata": "{}",
                  "name": "Avg_Petal_Width",
                  "type": "\"double\""
                }
              ],
              "type": "table"
            }
          }
        }
      ],
      "source": [
        "#Procedimiento para responder a la pregunta C:\n",
        "# Importación la librería necesaria para el cálculo del promedio\n",
        "from pyspark.sql.functions import avg\n",
        "\n",
        "# Calculo de las estadísticas descriptivas para cada tipo de iris\n",
        "iris_stats = iris.groupBy(\"Species\").agg(\n",
        "    avg(\"`Sepal.Length`\").alias(\"Avg_Sepal_Length\"),\n",
        "    avg(\"`Sepal.Width`\").alias(\"Avg_Sepal_Width\"),\n",
        "    avg(\"`Petal.Length`\").alias(\"Avg_Petal_Length\"),\n",
        "    avg(\"`Petal.Width`\").alias(\"Avg_Petal_Width\")\n",
        ")\n",
        "\n",
        "# Mostrar los resultados\n",
        "display(iris_stats)\n",
        "\n"
      ]
    },
    {
      "cell_type": "markdown",
      "metadata": {
        "application/vnd.databricks.v1+cell": {
          "cellMetadata": {},
          "inputWidgets": {},
          "nuid": "a7d5f324-db02-48c3-8d71-643ea09162d8",
          "showTitle": false,
          "title": ""
        },
        "id": "41MQ9X5rVc7a"
      },
      "source": [
        "**Respuesta C:**\n",
        "\n",
        "La especie \"virginica\" tiende a tener sépalos más largos y menos anchos que la especie \"setosa\".\n",
        "\n",
        "La especie \"versicolor\" tiende a tener pétalos más largos y anchos que la especie \"setosa\".\n",
        "\n",
        "La espcie \"setosa\" tiende a tener sépalos más anchos que las especies \"virginica\" y \"versicolor\"."
      ]
    },
    {
      "cell_type": "markdown",
      "metadata": {
        "application/vnd.databricks.v1+cell": {
          "cellMetadata": {},
          "inputWidgets": {},
          "nuid": "b13da92f-9124-4ac7-b271-c1bc18abb487",
          "showTitle": false,
          "title": ""
        },
        "id": "lpWQE4xUVc7a"
      },
      "source": [
        "#**3. Transformaciones**\n",
        "\n",
        "    A. Aplique al menos 7 transformaciones y 5 acciones.\n",
        "\n",
        "    B. Explique en el notebook el objetivo persigue con cada transformación."
      ]
    },
    {
      "cell_type": "code",
      "execution_count": null,
      "metadata": {
        "application/vnd.databricks.v1+cell": {
          "cellMetadata": {
            "byteLimit": 2048000,
            "rowLimit": 10000
          },
          "inputWidgets": {},
          "nuid": "80d57a6c-413d-499e-ad58-d42c418236f1",
          "showTitle": false,
          "title": ""
        },
        "id": "UV5TpgfzVc7a"
      },
      "outputs": [],
      "source": [
        "# Cargar de datos desde un archivo CSV\n",
        "from pyspark.sql import SparkSession\n",
        "\n",
        "# Sesión de Spark\n",
        "spark = SparkSession.builder.appName(\"Sesion\").getOrCreate()"
      ]
    },
    {
      "cell_type": "code",
      "execution_count": null,
      "metadata": {
        "application/vnd.databricks.v1+cell": {
          "cellMetadata": {
            "byteLimit": 2048000,
            "rowLimit": 10000
          },
          "inputWidgets": {},
          "nuid": "89d46c1d-3bb9-4a29-9866-4cf2e99b5140",
          "showTitle": false,
          "title": ""
        },
        "colab": {
          "base_uri": "https://localhost:8080/",
          "height": 412
        },
        "id": "qMM6rLh9Vc7b",
        "outputId": "eca34376-6664-4c6d-a438-280624a7c29f"
      },
      "outputs": [
        {
          "output_type": "display_data",
          "data": {
            "text/plain": [
              "\u001b[0;31m---------------------------------------------------------------------------\u001b[0m\n",
              "\u001b[0;31mAnalysisException\u001b[0m                         Traceback (most recent call last)\n",
              "File \u001b[0;32m<command-2508429210064693>:5\u001b[0m\n",
              "\u001b[1;32m      2\u001b[0m \u001b[38;5;28;01mfrom\u001b[39;00m \u001b[38;5;21;01mpyspark\u001b[39;00m\u001b[38;5;21;01m.\u001b[39;00m\u001b[38;5;21;01msql\u001b[39;00m\u001b[38;5;21;01m.\u001b[39;00m\u001b[38;5;21;01mfunctions\u001b[39;00m \u001b[38;5;28;01mimport\u001b[39;00m stddev, corr, avg, mean, median, count\n",
              "\u001b[1;32m      4\u001b[0m \u001b[38;5;66;03m# 1. Calcular la desviación estándar de las medidas de las flores para cada especie.\u001b[39;00m\n",
              "\u001b[0;32m----> 5\u001b[0m stddev_species \u001b[38;5;241m=\u001b[39m iris\u001b[38;5;241m.\u001b[39mgroupBy(\u001b[38;5;124m\"\u001b[39m\u001b[38;5;124mSpecies\u001b[39m\u001b[38;5;124m\"\u001b[39m)\u001b[38;5;241m.\u001b[39magg(\n",
              "\u001b[1;32m      6\u001b[0m     stddev(\u001b[38;5;124m\"\u001b[39m\u001b[38;5;124m`Sepal.LengthD`\u001b[39m\u001b[38;5;124m\"\u001b[39m)\u001b[38;5;241m.\u001b[39malias(\u001b[38;5;124m\"\u001b[39m\u001b[38;5;124mStdDev_Sepal.Length\u001b[39m\u001b[38;5;124m\"\u001b[39m),\n",
              "\u001b[1;32m      7\u001b[0m     stddev(\u001b[38;5;124m\"\u001b[39m\u001b[38;5;124m`Sepal.Width`\u001b[39m\u001b[38;5;124m\"\u001b[39m)\u001b[38;5;241m.\u001b[39malias(\u001b[38;5;124m\"\u001b[39m\u001b[38;5;124mStdDev_Sepal.Width\u001b[39m\u001b[38;5;124m\"\u001b[39m),\n",
              "\u001b[1;32m      8\u001b[0m     stddev(\u001b[38;5;124m\"\u001b[39m\u001b[38;5;124m`Petal.Length`\u001b[39m\u001b[38;5;124m\"\u001b[39m)\u001b[38;5;241m.\u001b[39malias(\u001b[38;5;124m\"\u001b[39m\u001b[38;5;124mStdDev_Petal.Length\u001b[39m\u001b[38;5;124m\"\u001b[39m),\n",
              "\u001b[1;32m      9\u001b[0m     stddev(\u001b[38;5;124m\"\u001b[39m\u001b[38;5;124m`Petal.Width`\u001b[39m\u001b[38;5;124m\"\u001b[39m)\u001b[38;5;241m.\u001b[39malias(\u001b[38;5;124m\"\u001b[39m\u001b[38;5;124mStdDev_Petal.Width\u001b[39m\u001b[38;5;124m\"\u001b[39m)\n",
              "\u001b[1;32m     10\u001b[0m )\n",
              "\u001b[1;32m     13\u001b[0m \u001b[38;5;66;03m# 2. Calcular la matriz de correlación entre las diferentes medidas.\u001b[39;00m\n",
              "\u001b[1;32m     14\u001b[0m correlation_matrix \u001b[38;5;241m=\u001b[39m iris\u001b[38;5;241m.\u001b[39mselect(\n",
              "\u001b[1;32m     15\u001b[0m     corr(\u001b[38;5;124m\"\u001b[39m\u001b[38;5;124m`Sepal.Length`\u001b[39m\u001b[38;5;124m\"\u001b[39m, \u001b[38;5;124m\"\u001b[39m\u001b[38;5;124m`Sepal.Width`\u001b[39m\u001b[38;5;124m\"\u001b[39m)\u001b[38;5;241m.\u001b[39malias(\u001b[38;5;124m\"\u001b[39m\u001b[38;5;124mCorrelation_Sepal_Width\u001b[39m\u001b[38;5;124m\"\u001b[39m),\n",
              "\u001b[1;32m     16\u001b[0m     corr(\u001b[38;5;124m\"\u001b[39m\u001b[38;5;124m`Sepal.Length`\u001b[39m\u001b[38;5;124m\"\u001b[39m, \u001b[38;5;124m\"\u001b[39m\u001b[38;5;124m`Petal.Length`\u001b[39m\u001b[38;5;124m\"\u001b[39m)\u001b[38;5;241m.\u001b[39malias(\u001b[38;5;124m\"\u001b[39m\u001b[38;5;124mCorrelation_Sepal_PetalLength\u001b[39m\u001b[38;5;124m\"\u001b[39m),\n",
              "\u001b[0;32m   (...)\u001b[0m\n",
              "\u001b[1;32m     20\u001b[0m     corr(\u001b[38;5;124m\"\u001b[39m\u001b[38;5;124m`Petal.Length`\u001b[39m\u001b[38;5;124m\"\u001b[39m, \u001b[38;5;124m\"\u001b[39m\u001b[38;5;124m`Petal.Width`\u001b[39m\u001b[38;5;124m\"\u001b[39m)\u001b[38;5;241m.\u001b[39malias(\u001b[38;5;124m\"\u001b[39m\u001b[38;5;124mCorrelation_PetalLength_PetalWidth\u001b[39m\u001b[38;5;124m\"\u001b[39m)\n",
              "\u001b[1;32m     21\u001b[0m )\n",
              "\n",
              "File \u001b[0;32m/databricks/spark/python/pyspark/instrumentation_utils.py:48\u001b[0m, in \u001b[0;36m_wrap_function.<locals>.wrapper\u001b[0;34m(*args, **kwargs)\u001b[0m\n",
              "\u001b[1;32m     46\u001b[0m start \u001b[38;5;241m=\u001b[39m time\u001b[38;5;241m.\u001b[39mperf_counter()\n",
              "\u001b[1;32m     47\u001b[0m \u001b[38;5;28;01mtry\u001b[39;00m:\n",
              "\u001b[0;32m---> 48\u001b[0m     res \u001b[38;5;241m=\u001b[39m \u001b[43mfunc\u001b[49m\u001b[43m(\u001b[49m\u001b[38;5;241;43m*\u001b[39;49m\u001b[43margs\u001b[49m\u001b[43m,\u001b[49m\u001b[43m \u001b[49m\u001b[38;5;241;43m*\u001b[39;49m\u001b[38;5;241;43m*\u001b[39;49m\u001b[43mkwargs\u001b[49m\u001b[43m)\u001b[49m\n",
              "\u001b[1;32m     49\u001b[0m     logger\u001b[38;5;241m.\u001b[39mlog_success(\n",
              "\u001b[1;32m     50\u001b[0m         module_name, class_name, function_name, time\u001b[38;5;241m.\u001b[39mperf_counter() \u001b[38;5;241m-\u001b[39m start, signature\n",
              "\u001b[1;32m     51\u001b[0m     )\n",
              "\u001b[1;32m     52\u001b[0m     \u001b[38;5;28;01mreturn\u001b[39;00m res\n",
              "\n",
              "File \u001b[0;32m/databricks/spark/python/pyspark/sql/group.py:177\u001b[0m, in \u001b[0;36mGroupedData.agg\u001b[0;34m(self, *exprs)\u001b[0m\n",
              "\u001b[1;32m    175\u001b[0m     \u001b[38;5;28;01massert\u001b[39;00m \u001b[38;5;28mall\u001b[39m(\u001b[38;5;28misinstance\u001b[39m(c, Column) \u001b[38;5;28;01mfor\u001b[39;00m c \u001b[38;5;129;01min\u001b[39;00m exprs), \u001b[38;5;124m\"\u001b[39m\u001b[38;5;124mall exprs should be Column\u001b[39m\u001b[38;5;124m\"\u001b[39m\n",
              "\u001b[1;32m    176\u001b[0m     exprs \u001b[38;5;241m=\u001b[39m cast(Tuple[Column, \u001b[38;5;241m.\u001b[39m\u001b[38;5;241m.\u001b[39m\u001b[38;5;241m.\u001b[39m], exprs)\n",
              "\u001b[0;32m--> 177\u001b[0m     jdf \u001b[38;5;241m=\u001b[39m \u001b[38;5;28;43mself\u001b[39;49m\u001b[38;5;241;43m.\u001b[39;49m\u001b[43m_jgd\u001b[49m\u001b[38;5;241;43m.\u001b[39;49m\u001b[43magg\u001b[49m\u001b[43m(\u001b[49m\u001b[43mexprs\u001b[49m\u001b[43m[\u001b[49m\u001b[38;5;241;43m0\u001b[39;49m\u001b[43m]\u001b[49m\u001b[38;5;241;43m.\u001b[39;49m\u001b[43m_jc\u001b[49m\u001b[43m,\u001b[49m\u001b[43m \u001b[49m\u001b[43m_to_seq\u001b[49m\u001b[43m(\u001b[49m\u001b[38;5;28;43mself\u001b[39;49m\u001b[38;5;241;43m.\u001b[39;49m\u001b[43msession\u001b[49m\u001b[38;5;241;43m.\u001b[39;49m\u001b[43m_sc\u001b[49m\u001b[43m,\u001b[49m\u001b[43m \u001b[49m\u001b[43m[\u001b[49m\u001b[43mc\u001b[49m\u001b[38;5;241;43m.\u001b[39;49m\u001b[43m_jc\u001b[49m\u001b[43m \u001b[49m\u001b[38;5;28;43;01mfor\u001b[39;49;00m\u001b[43m \u001b[49m\u001b[43mc\u001b[49m\u001b[43m \u001b[49m\u001b[38;5;129;43;01min\u001b[39;49;00m\u001b[43m \u001b[49m\u001b[43mexprs\u001b[49m\u001b[43m[\u001b[49m\u001b[38;5;241;43m1\u001b[39;49m\u001b[43m:\u001b[49m\u001b[43m]\u001b[49m\u001b[43m]\u001b[49m\u001b[43m)\u001b[49m\u001b[43m)\u001b[49m\n",
              "\u001b[1;32m    178\u001b[0m \u001b[38;5;28;01mreturn\u001b[39;00m DataFrame(jdf, \u001b[38;5;28mself\u001b[39m\u001b[38;5;241m.\u001b[39msession)\n",
              "\n",
              "File \u001b[0;32m/databricks/spark/python/lib/py4j-0.10.9.5-src.zip/py4j/java_gateway.py:1321\u001b[0m, in \u001b[0;36mJavaMember.__call__\u001b[0;34m(self, *args)\u001b[0m\n",
              "\u001b[1;32m   1315\u001b[0m command \u001b[38;5;241m=\u001b[39m proto\u001b[38;5;241m.\u001b[39mCALL_COMMAND_NAME \u001b[38;5;241m+\u001b[39m\\\n",
              "\u001b[1;32m   1316\u001b[0m     \u001b[38;5;28mself\u001b[39m\u001b[38;5;241m.\u001b[39mcommand_header \u001b[38;5;241m+\u001b[39m\\\n",
              "\u001b[1;32m   1317\u001b[0m     args_command \u001b[38;5;241m+\u001b[39m\\\n",
              "\u001b[1;32m   1318\u001b[0m     proto\u001b[38;5;241m.\u001b[39mEND_COMMAND_PART\n",
              "\u001b[1;32m   1320\u001b[0m answer \u001b[38;5;241m=\u001b[39m \u001b[38;5;28mself\u001b[39m\u001b[38;5;241m.\u001b[39mgateway_client\u001b[38;5;241m.\u001b[39msend_command(command)\n",
              "\u001b[0;32m-> 1321\u001b[0m return_value \u001b[38;5;241m=\u001b[39m \u001b[43mget_return_value\u001b[49m\u001b[43m(\u001b[49m\n",
              "\u001b[1;32m   1322\u001b[0m \u001b[43m    \u001b[49m\u001b[43manswer\u001b[49m\u001b[43m,\u001b[49m\u001b[43m \u001b[49m\u001b[38;5;28;43mself\u001b[39;49m\u001b[38;5;241;43m.\u001b[39;49m\u001b[43mgateway_client\u001b[49m\u001b[43m,\u001b[49m\u001b[43m \u001b[49m\u001b[38;5;28;43mself\u001b[39;49m\u001b[38;5;241;43m.\u001b[39;49m\u001b[43mtarget_id\u001b[49m\u001b[43m,\u001b[49m\u001b[43m \u001b[49m\u001b[38;5;28;43mself\u001b[39;49m\u001b[38;5;241;43m.\u001b[39;49m\u001b[43mname\u001b[49m\u001b[43m)\u001b[49m\n",
              "\u001b[1;32m   1324\u001b[0m \u001b[38;5;28;01mfor\u001b[39;00m temp_arg \u001b[38;5;129;01min\u001b[39;00m temp_args:\n",
              "\u001b[1;32m   1325\u001b[0m     temp_arg\u001b[38;5;241m.\u001b[39m_detach()\n",
              "\n",
              "File \u001b[0;32m/databricks/spark/python/pyspark/errors/exceptions.py:234\u001b[0m, in \u001b[0;36mcapture_sql_exception.<locals>.deco\u001b[0;34m(*a, **kw)\u001b[0m\n",
              "\u001b[1;32m    230\u001b[0m converted \u001b[38;5;241m=\u001b[39m convert_exception(e\u001b[38;5;241m.\u001b[39mjava_exception)\n",
              "\u001b[1;32m    231\u001b[0m \u001b[38;5;28;01mif\u001b[39;00m \u001b[38;5;129;01mnot\u001b[39;00m \u001b[38;5;28misinstance\u001b[39m(converted, UnknownException):\n",
              "\u001b[1;32m    232\u001b[0m     \u001b[38;5;66;03m# Hide where the exception came from that shows a non-Pythonic\u001b[39;00m\n",
              "\u001b[1;32m    233\u001b[0m     \u001b[38;5;66;03m# JVM exception message.\u001b[39;00m\n",
              "\u001b[0;32m--> 234\u001b[0m     \u001b[38;5;28;01mraise\u001b[39;00m converted \u001b[38;5;28;01mfrom\u001b[39;00m \u001b[38;5;28mNone\u001b[39m\n",
              "\u001b[1;32m    235\u001b[0m \u001b[38;5;28;01melse\u001b[39;00m:\n",
              "\u001b[1;32m    236\u001b[0m     \u001b[38;5;28;01mraise\u001b[39;00m\n",
              "\n",
              "\u001b[0;31mAnalysisException\u001b[0m: [UNRESOLVED_COLUMN.WITH_SUGGESTION] A column or function parameter with name `Sepal.LengthD` cannot be resolved. Did you mean one of the following? [`Sepal_Length`, `Petal_Length`, `Sepal_Width`, `Petal_Width`, `Species`].;\n",
              "'Aggregate [Species#42], [Species#42, stddev_samp('`Sepal.LengthD`) AS StdDev_Sepal.Length#499, stddev_samp('`Sepal.Width`) AS StdDev_Sepal.Width#509, stddev_samp('`Petal.Length`) AS StdDev_Petal.Length#519, stddev_samp('`Petal.Width`) AS StdDev_Petal.Width#529]\n",
              "+- Project [_c0#37, Sepal_Length#439, Sepal_Width#446, Petal_Length#453, Petal.Width#41 AS Petal_Width#460, Species#42]\n",
              "   +- Project [_c0#37, Sepal_Length#439, Sepal_Width#446, Petal.Length#40 AS Petal_Length#453, Petal.Width#41, Species#42]\n",
              "      +- Project [_c0#37, Sepal_Length#439, Sepal.Width#39 AS Sepal_Width#446, Petal.Length#40, Petal.Width#41, Species#42]\n",
              "         +- Project [_c0#37, Sepal.Length#38 AS Sepal_Length#439, Sepal.Width#39, Petal.Length#40, Petal.Width#41, Species#42]\n",
              "            +- Relation [_c0#37,Sepal.Length#38,Sepal.Width#39,Petal.Length#40,Petal.Width#41,Species#42] csv\n"
            ]
          },
          "metadata": {
            "application/vnd.databricks.v1+output": {
              "arguments": {},
              "data": "\u001b[0;31m---------------------------------------------------------------------------\u001b[0m\n\u001b[0;31mAnalysisException\u001b[0m                         Traceback (most recent call last)\nFile \u001b[0;32m<command-2508429210064693>:5\u001b[0m\n\u001b[1;32m      2\u001b[0m \u001b[38;5;28;01mfrom\u001b[39;00m \u001b[38;5;21;01mpyspark\u001b[39;00m\u001b[38;5;21;01m.\u001b[39;00m\u001b[38;5;21;01msql\u001b[39;00m\u001b[38;5;21;01m.\u001b[39;00m\u001b[38;5;21;01mfunctions\u001b[39;00m \u001b[38;5;28;01mimport\u001b[39;00m stddev, corr, avg, mean, median, count\n\u001b[1;32m      4\u001b[0m \u001b[38;5;66;03m# 1. Calcular la desviación estándar de las medidas de las flores para cada especie.\u001b[39;00m\n\u001b[0;32m----> 5\u001b[0m stddev_species \u001b[38;5;241m=\u001b[39m iris\u001b[38;5;241m.\u001b[39mgroupBy(\u001b[38;5;124m\"\u001b[39m\u001b[38;5;124mSpecies\u001b[39m\u001b[38;5;124m\"\u001b[39m)\u001b[38;5;241m.\u001b[39magg(\n\u001b[1;32m      6\u001b[0m     stddev(\u001b[38;5;124m\"\u001b[39m\u001b[38;5;124m`Sepal.LengthD`\u001b[39m\u001b[38;5;124m\"\u001b[39m)\u001b[38;5;241m.\u001b[39malias(\u001b[38;5;124m\"\u001b[39m\u001b[38;5;124mStdDev_Sepal.Length\u001b[39m\u001b[38;5;124m\"\u001b[39m),\n\u001b[1;32m      7\u001b[0m     stddev(\u001b[38;5;124m\"\u001b[39m\u001b[38;5;124m`Sepal.Width`\u001b[39m\u001b[38;5;124m\"\u001b[39m)\u001b[38;5;241m.\u001b[39malias(\u001b[38;5;124m\"\u001b[39m\u001b[38;5;124mStdDev_Sepal.Width\u001b[39m\u001b[38;5;124m\"\u001b[39m),\n\u001b[1;32m      8\u001b[0m     stddev(\u001b[38;5;124m\"\u001b[39m\u001b[38;5;124m`Petal.Length`\u001b[39m\u001b[38;5;124m\"\u001b[39m)\u001b[38;5;241m.\u001b[39malias(\u001b[38;5;124m\"\u001b[39m\u001b[38;5;124mStdDev_Petal.Length\u001b[39m\u001b[38;5;124m\"\u001b[39m),\n\u001b[1;32m      9\u001b[0m     stddev(\u001b[38;5;124m\"\u001b[39m\u001b[38;5;124m`Petal.Width`\u001b[39m\u001b[38;5;124m\"\u001b[39m)\u001b[38;5;241m.\u001b[39malias(\u001b[38;5;124m\"\u001b[39m\u001b[38;5;124mStdDev_Petal.Width\u001b[39m\u001b[38;5;124m\"\u001b[39m)\n\u001b[1;32m     10\u001b[0m )\n\u001b[1;32m     13\u001b[0m \u001b[38;5;66;03m# 2. Calcular la matriz de correlación entre las diferentes medidas.\u001b[39;00m\n\u001b[1;32m     14\u001b[0m correlation_matrix \u001b[38;5;241m=\u001b[39m iris\u001b[38;5;241m.\u001b[39mselect(\n\u001b[1;32m     15\u001b[0m     corr(\u001b[38;5;124m\"\u001b[39m\u001b[38;5;124m`Sepal.Length`\u001b[39m\u001b[38;5;124m\"\u001b[39m, \u001b[38;5;124m\"\u001b[39m\u001b[38;5;124m`Sepal.Width`\u001b[39m\u001b[38;5;124m\"\u001b[39m)\u001b[38;5;241m.\u001b[39malias(\u001b[38;5;124m\"\u001b[39m\u001b[38;5;124mCorrelation_Sepal_Width\u001b[39m\u001b[38;5;124m\"\u001b[39m),\n\u001b[1;32m     16\u001b[0m     corr(\u001b[38;5;124m\"\u001b[39m\u001b[38;5;124m`Sepal.Length`\u001b[39m\u001b[38;5;124m\"\u001b[39m, \u001b[38;5;124m\"\u001b[39m\u001b[38;5;124m`Petal.Length`\u001b[39m\u001b[38;5;124m\"\u001b[39m)\u001b[38;5;241m.\u001b[39malias(\u001b[38;5;124m\"\u001b[39m\u001b[38;5;124mCorrelation_Sepal_PetalLength\u001b[39m\u001b[38;5;124m\"\u001b[39m),\n\u001b[0;32m   (...)\u001b[0m\n\u001b[1;32m     20\u001b[0m     corr(\u001b[38;5;124m\"\u001b[39m\u001b[38;5;124m`Petal.Length`\u001b[39m\u001b[38;5;124m\"\u001b[39m, \u001b[38;5;124m\"\u001b[39m\u001b[38;5;124m`Petal.Width`\u001b[39m\u001b[38;5;124m\"\u001b[39m)\u001b[38;5;241m.\u001b[39malias(\u001b[38;5;124m\"\u001b[39m\u001b[38;5;124mCorrelation_PetalLength_PetalWidth\u001b[39m\u001b[38;5;124m\"\u001b[39m)\n\u001b[1;32m     21\u001b[0m )\n\nFile \u001b[0;32m/databricks/spark/python/pyspark/instrumentation_utils.py:48\u001b[0m, in \u001b[0;36m_wrap_function.<locals>.wrapper\u001b[0;34m(*args, **kwargs)\u001b[0m\n\u001b[1;32m     46\u001b[0m start \u001b[38;5;241m=\u001b[39m time\u001b[38;5;241m.\u001b[39mperf_counter()\n\u001b[1;32m     47\u001b[0m \u001b[38;5;28;01mtry\u001b[39;00m:\n\u001b[0;32m---> 48\u001b[0m     res \u001b[38;5;241m=\u001b[39m \u001b[43mfunc\u001b[49m\u001b[43m(\u001b[49m\u001b[38;5;241;43m*\u001b[39;49m\u001b[43margs\u001b[49m\u001b[43m,\u001b[49m\u001b[43m \u001b[49m\u001b[38;5;241;43m*\u001b[39;49m\u001b[38;5;241;43m*\u001b[39;49m\u001b[43mkwargs\u001b[49m\u001b[43m)\u001b[49m\n\u001b[1;32m     49\u001b[0m     logger\u001b[38;5;241m.\u001b[39mlog_success(\n\u001b[1;32m     50\u001b[0m         module_name, class_name, function_name, time\u001b[38;5;241m.\u001b[39mperf_counter() \u001b[38;5;241m-\u001b[39m start, signature\n\u001b[1;32m     51\u001b[0m     )\n\u001b[1;32m     52\u001b[0m     \u001b[38;5;28;01mreturn\u001b[39;00m res\n\nFile \u001b[0;32m/databricks/spark/python/pyspark/sql/group.py:177\u001b[0m, in \u001b[0;36mGroupedData.agg\u001b[0;34m(self, *exprs)\u001b[0m\n\u001b[1;32m    175\u001b[0m     \u001b[38;5;28;01massert\u001b[39;00m \u001b[38;5;28mall\u001b[39m(\u001b[38;5;28misinstance\u001b[39m(c, Column) \u001b[38;5;28;01mfor\u001b[39;00m c \u001b[38;5;129;01min\u001b[39;00m exprs), \u001b[38;5;124m\"\u001b[39m\u001b[38;5;124mall exprs should be Column\u001b[39m\u001b[38;5;124m\"\u001b[39m\n\u001b[1;32m    176\u001b[0m     exprs \u001b[38;5;241m=\u001b[39m cast(Tuple[Column, \u001b[38;5;241m.\u001b[39m\u001b[38;5;241m.\u001b[39m\u001b[38;5;241m.\u001b[39m], exprs)\n\u001b[0;32m--> 177\u001b[0m     jdf \u001b[38;5;241m=\u001b[39m \u001b[38;5;28;43mself\u001b[39;49m\u001b[38;5;241;43m.\u001b[39;49m\u001b[43m_jgd\u001b[49m\u001b[38;5;241;43m.\u001b[39;49m\u001b[43magg\u001b[49m\u001b[43m(\u001b[49m\u001b[43mexprs\u001b[49m\u001b[43m[\u001b[49m\u001b[38;5;241;43m0\u001b[39;49m\u001b[43m]\u001b[49m\u001b[38;5;241;43m.\u001b[39;49m\u001b[43m_jc\u001b[49m\u001b[43m,\u001b[49m\u001b[43m \u001b[49m\u001b[43m_to_seq\u001b[49m\u001b[43m(\u001b[49m\u001b[38;5;28;43mself\u001b[39;49m\u001b[38;5;241;43m.\u001b[39;49m\u001b[43msession\u001b[49m\u001b[38;5;241;43m.\u001b[39;49m\u001b[43m_sc\u001b[49m\u001b[43m,\u001b[49m\u001b[43m \u001b[49m\u001b[43m[\u001b[49m\u001b[43mc\u001b[49m\u001b[38;5;241;43m.\u001b[39;49m\u001b[43m_jc\u001b[49m\u001b[43m \u001b[49m\u001b[38;5;28;43;01mfor\u001b[39;49;00m\u001b[43m \u001b[49m\u001b[43mc\u001b[49m\u001b[43m \u001b[49m\u001b[38;5;129;43;01min\u001b[39;49;00m\u001b[43m \u001b[49m\u001b[43mexprs\u001b[49m\u001b[43m[\u001b[49m\u001b[38;5;241;43m1\u001b[39;49m\u001b[43m:\u001b[49m\u001b[43m]\u001b[49m\u001b[43m]\u001b[49m\u001b[43m)\u001b[49m\u001b[43m)\u001b[49m\n\u001b[1;32m    178\u001b[0m \u001b[38;5;28;01mreturn\u001b[39;00m DataFrame(jdf, \u001b[38;5;28mself\u001b[39m\u001b[38;5;241m.\u001b[39msession)\n\nFile \u001b[0;32m/databricks/spark/python/lib/py4j-0.10.9.5-src.zip/py4j/java_gateway.py:1321\u001b[0m, in \u001b[0;36mJavaMember.__call__\u001b[0;34m(self, *args)\u001b[0m\n\u001b[1;32m   1315\u001b[0m command \u001b[38;5;241m=\u001b[39m proto\u001b[38;5;241m.\u001b[39mCALL_COMMAND_NAME \u001b[38;5;241m+\u001b[39m\\\n\u001b[1;32m   1316\u001b[0m     \u001b[38;5;28mself\u001b[39m\u001b[38;5;241m.\u001b[39mcommand_header \u001b[38;5;241m+\u001b[39m\\\n\u001b[1;32m   1317\u001b[0m     args_command \u001b[38;5;241m+\u001b[39m\\\n\u001b[1;32m   1318\u001b[0m     proto\u001b[38;5;241m.\u001b[39mEND_COMMAND_PART\n\u001b[1;32m   1320\u001b[0m answer \u001b[38;5;241m=\u001b[39m \u001b[38;5;28mself\u001b[39m\u001b[38;5;241m.\u001b[39mgateway_client\u001b[38;5;241m.\u001b[39msend_command(command)\n\u001b[0;32m-> 1321\u001b[0m return_value \u001b[38;5;241m=\u001b[39m \u001b[43mget_return_value\u001b[49m\u001b[43m(\u001b[49m\n\u001b[1;32m   1322\u001b[0m \u001b[43m    \u001b[49m\u001b[43manswer\u001b[49m\u001b[43m,\u001b[49m\u001b[43m \u001b[49m\u001b[38;5;28;43mself\u001b[39;49m\u001b[38;5;241;43m.\u001b[39;49m\u001b[43mgateway_client\u001b[49m\u001b[43m,\u001b[49m\u001b[43m \u001b[49m\u001b[38;5;28;43mself\u001b[39;49m\u001b[38;5;241;43m.\u001b[39;49m\u001b[43mtarget_id\u001b[49m\u001b[43m,\u001b[49m\u001b[43m \u001b[49m\u001b[38;5;28;43mself\u001b[39;49m\u001b[38;5;241;43m.\u001b[39;49m\u001b[43mname\u001b[49m\u001b[43m)\u001b[49m\n\u001b[1;32m   1324\u001b[0m \u001b[38;5;28;01mfor\u001b[39;00m temp_arg \u001b[38;5;129;01min\u001b[39;00m temp_args:\n\u001b[1;32m   1325\u001b[0m     temp_arg\u001b[38;5;241m.\u001b[39m_detach()\n\nFile \u001b[0;32m/databricks/spark/python/pyspark/errors/exceptions.py:234\u001b[0m, in \u001b[0;36mcapture_sql_exception.<locals>.deco\u001b[0;34m(*a, **kw)\u001b[0m\n\u001b[1;32m    230\u001b[0m converted \u001b[38;5;241m=\u001b[39m convert_exception(e\u001b[38;5;241m.\u001b[39mjava_exception)\n\u001b[1;32m    231\u001b[0m \u001b[38;5;28;01mif\u001b[39;00m \u001b[38;5;129;01mnot\u001b[39;00m \u001b[38;5;28misinstance\u001b[39m(converted, UnknownException):\n\u001b[1;32m    232\u001b[0m     \u001b[38;5;66;03m# Hide where the exception came from that shows a non-Pythonic\u001b[39;00m\n\u001b[1;32m    233\u001b[0m     \u001b[38;5;66;03m# JVM exception message.\u001b[39;00m\n\u001b[0;32m--> 234\u001b[0m     \u001b[38;5;28;01mraise\u001b[39;00m converted \u001b[38;5;28;01mfrom\u001b[39;00m \u001b[38;5;28mNone\u001b[39m\n\u001b[1;32m    235\u001b[0m \u001b[38;5;28;01melse\u001b[39;00m:\n\u001b[1;32m    236\u001b[0m     \u001b[38;5;28;01mraise\u001b[39;00m\n\n\u001b[0;31mAnalysisException\u001b[0m: [UNRESOLVED_COLUMN.WITH_SUGGESTION] A column or function parameter with name `Sepal.LengthD` cannot be resolved. Did you mean one of the following? [`Sepal_Length`, `Petal_Length`, `Sepal_Width`, `Petal_Width`, `Species`].;\n'Aggregate [Species#42], [Species#42, stddev_samp('`Sepal.LengthD`) AS StdDev_Sepal.Length#499, stddev_samp('`Sepal.Width`) AS StdDev_Sepal.Width#509, stddev_samp('`Petal.Length`) AS StdDev_Petal.Length#519, stddev_samp('`Petal.Width`) AS StdDev_Petal.Width#529]\n+- Project [_c0#37, Sepal_Length#439, Sepal_Width#446, Petal_Length#453, Petal.Width#41 AS Petal_Width#460, Species#42]\n   +- Project [_c0#37, Sepal_Length#439, Sepal_Width#446, Petal.Length#40 AS Petal_Length#453, Petal.Width#41, Species#42]\n      +- Project [_c0#37, Sepal_Length#439, Sepal.Width#39 AS Sepal_Width#446, Petal.Length#40, Petal.Width#41, Species#42]\n         +- Project [_c0#37, Sepal.Length#38 AS Sepal_Length#439, Sepal.Width#39, Petal.Length#40, Petal.Width#41, Species#42]\n            +- Relation [_c0#37,Sepal.Length#38,Sepal.Width#39,Petal.Length#40,Petal.Width#41,Species#42] csv\n",
              "errorSummary": "<span class='ansi-red-fg'>AnalysisException</span>: [UNRESOLVED_COLUMN.WITH_SUGGESTION] A column or function parameter with name `Sepal.LengthD` cannot be resolved. Did you mean one of the following? [`Sepal_Length`, `Petal_Length`, `Sepal_Width`, `Petal_Width`, `Species`].;\n'Aggregate [Species#42], [Species#42, stddev_samp('`Sepal.LengthD`) AS StdDev_Sepal.Length#499, stddev_samp('`Sepal.Width`) AS StdDev_Sepal.Width#509, stddev_samp('`Petal.Length`) AS StdDev_Petal.Length#519, stddev_samp('`Petal.Width`) AS StdDev_Petal.Width#529]\n+- Project [_c0#37, Sepal_Length#439, Sepal_Width#446, Petal_Length#453, Petal.Width#41 AS Petal_Width#460, Species#42]\n   +- Project [_c0#37, Sepal_Length#439, Sepal_Width#446, Petal.Length#40 AS Petal_Length#453, Petal.Width#41, Species#42]\n      +- Project [_c0#37, Sepal_Length#439, Sepal.Width#39 AS Sepal_Width#446, Petal.Length#40, Petal.Width#41, Species#42]\n         +- Project [_c0#37, Sepal.Length#38 AS Sepal_Length#439, Sepal.Width#39, Petal.Length#40, Petal.Width#41, Species#42]\n            +- Relation [_c0#37,Sepal.Length#38,Sepal.Width#39,Petal.Length#40,Petal.Width#41,Species#42] csv\n",
              "errorTraceType": "ansi",
              "metadata": {},
              "type": "ipynbError"
            }
          }
        }
      ],
      "source": [
        "# Transformaciones y acciones\n",
        "from pyspark.sql.functions import stddev, corr, avg, mean, median, count\n",
        "\n",
        "# 1. Calcular la desviación estándar de las medidas de las flores para cada especie.\n",
        "stddev_species = iris.groupBy(\"Species\").agg(\n",
        "    stddev(\"`Sepal.LengthD`\").alias(\"StdDev_Sepal.Length\"),\n",
        "    stddev(\"`Sepal.Width`\").alias(\"StdDev_Sepal.Width\"),\n",
        "    stddev(\"`Petal.Length`\").alias(\"StdDev_Petal.Length\"),\n",
        "    stddev(\"`Petal.Width`\").alias(\"StdDev_Petal.Width\")\n",
        ")\n",
        "\n",
        "\n",
        "# 2. Calcular la matriz de correlación entre las diferentes medidas.\n",
        "correlation_matrix = iris.select(\n",
        "    corr(\"`Sepal.Length`\", \"`Sepal.Width`\").alias(\"Correlation_Sepal_Width\"),\n",
        "    corr(\"`Sepal.Length`\", \"`Petal.Length`\").alias(\"Correlation_Sepal_PetalLength\"),\n",
        "    corr(\"`Sepal.Length`\", \"`Petal.Width`\").alias(\"Correlation_Sepal_PetalWidth\"),\n",
        "    corr(\"`Sepal.Width`\", \"`Petal.Length`\").alias(\"Correlation_Sepal_Width_PetalLength\"),\n",
        "    corr(\"`Sepal.Width`\", \"`Petal.Width`\").alias(\"Correlation_Sepal_Width_PetalWidth\"),\n",
        "    corr(\"`Petal.Length`\", \"`Petal.Width`\").alias(\"Correlation_PetalLength_PetalWidth\")\n",
        ")\n",
        "\n",
        "# 3. Calcular la media y la mediana de las medidas de las flores para cada especie.\n",
        "avg_median_species = iris.groupBy(\"Species\").agg(\n",
        "    avg(\"`Sepal.Length`\").alias(\"Avg_Sepal_Length\"),\n",
        "    mean(\"`Sepal.Length`\").alias(\"Mean_Sepal_Length\"),\n",
        "    median(\"`Sepal.Length`\").alias(\"Median_Sepal_Length\"),\n",
        "    avg(\"`Sepal.Width`\").alias(\"Avg_Sepal_Width\"),\n",
        "    mean(\"`Sepal.Width`\").alias(\"Mean_Sepal_Width\"),\n",
        "    median(\"`Sepal.Width`\").alias(\"Median_Sepal_Width\"),\n",
        "    avg(\"`Petal.Length`\").alias(\"Avg_Petal_Length\"),\n",
        "    mean(\"`Petal.Length`\").alias(\"Mean_Petal_Length\"),\n",
        "    median(\"`Petal.Length`\").alias(\"Median_Petal_Length\"),\n",
        "    avg(\"`Petal.Width`\").alias(\"Avg_Petal_Width\"),\n",
        "    mean(\"`Petal.Width`\").alias(\"Mean_Petal_Width\"),\n",
        "    median(\"`Petal.Width`\").alias(\"Median_Petal_Width\")\n",
        ")\n",
        "\n",
        "# 4. Contar la cantidad de registros por especie.\n",
        "species_count = iris.groupBy(\"Species\").agg(count(\"*\").alias(\"Count\"))\n",
        "\n",
        "# 5. Filtrar los registros de iris con longitud del pétalo mayor que 3.\n",
        "filtered_iris = iris.filter(iris[\"Petal.Length\"] > 3)\n",
        "\n",
        "# 6. Calcular la media de la longitud del sépalo para registros con ancho del pétalo mayor que 1.\n",
        "avg_sepal_length_filtered = iris.filter(iris[\"Petal.Width\"] > 1).agg(avg(\"Sepal.Length\").alias(\"Avg_Sepal_Length_Filtered\"))\n",
        "\n",
        "# 7. Calcular la suma de la longitud del sépalo y el ancho del sépalo para cada especie.\n",
        "sum_sepal_lengths_widths = iris.groupBy(\"Species\").agg(\n",
        "    avg(\"`Sepal.Length`\").alias(\"Sum_Sepal_Length\"),\n",
        "    avg(\"`Sepal.Width`\").alias(\"Sum_Sepal_Width\")\n",
        ")\n",
        "\n",
        "# Mostrar los resultados de las transformaciones y acciones\n",
        "stddev_species.show()\n",
        "correlation_matrix.show()\n",
        "avg_median_species.show()\n",
        "species_count.show()\n",
        "filtered_iris.show()\n",
        "avg_sepal_length_filtered.show()\n",
        "sum_sepal_lengths_widths.show()"
      ]
    },
    {
      "cell_type": "code",
      "execution_count": null,
      "metadata": {
        "application/vnd.databricks.v1+cell": {
          "cellMetadata": {
            "byteLimit": 2048000,
            "rowLimit": 10000
          },
          "inputWidgets": {},
          "nuid": "335c1bc8-9d16-4e5f-a766-7e31de292f75",
          "showTitle": false,
          "title": ""
        },
        "id": "mcBZoaSKWm9B",
        "outputId": "9239cb66-fbc6-4a69-f0af-aec4f4d55ba1"
      },
      "outputs": [
        {
          "output_type": "stream",
          "name": "stdout",
          "text": [
            "+---+------------+-----------+------------+-----------+----------+\n|_c0|Sepal.Length|Sepal.Width|Petal.Length|Petal.Width|   Species|\n+---+------------+-----------+------------+-----------+----------+\n|  8|         5.0|        3.4|         1.5|        0.2|    setosa|\n| 17|         5.4|        3.9|         1.3|        0.4|    setosa|\n| 19|         5.7|        3.8|         1.7|        0.3|    setosa|\n| 51|         7.0|        3.2|         4.7|        1.4|versicolor|\n| 59|         6.6|        2.9|         4.6|        1.3|versicolor|\n| 64|         6.1|        2.9|         4.7|        1.4|versicolor|\n| 67|         5.6|        3.0|         4.5|        1.5|versicolor|\n| 73|         6.3|        2.5|         4.9|        1.5|versicolor|\n| 80|         5.7|        2.6|         3.5|        1.0|versicolor|\n| 89|         5.6|        3.0|         4.1|        1.3|versicolor|\n| 91|         5.5|        2.6|         4.4|        1.2|versicolor|\n|104|         6.3|        2.9|         5.6|        1.8| virginica|\n|106|         7.6|        3.0|         6.6|        2.1| virginica|\n|107|         4.9|        2.5|         4.5|        1.7| virginica|\n|110|         7.2|        3.6|         6.1|        2.5| virginica|\n|123|         7.7|        2.8|         6.7|        2.0| virginica|\n|129|         6.4|        2.8|         5.6|        2.1| virginica|\n|139|         6.0|        3.0|         4.8|        1.8| virginica|\n|142|         6.9|        3.1|         5.1|        2.3| virginica|\n+---+------------+-----------+------------+-----------+----------+\n\n"
          ]
        }
      ],
      "source": [
        "#**Acciones**\n",
        "#1. Tomar un registro aleatorio:\n",
        "sampled_iris = iris.sample(fraction=0.1, seed=42)\n",
        "sampled_iris.show()\n"
      ]
    },
    {
      "cell_type": "code",
      "execution_count": null,
      "metadata": {
        "application/vnd.databricks.v1+cell": {
          "cellMetadata": {
            "byteLimit": 2048000,
            "rowLimit": 10000
          },
          "inputWidgets": {},
          "nuid": "18113690-9816-475b-9ad3-66297a1ff65f",
          "showTitle": false,
          "title": ""
        },
        "id": "y5kXyvuJsaOa",
        "outputId": "c53fb93c-bcdb-4f65-d558-d15a6e56396b"
      },
      "outputs": [
        {
          "output_type": "stream",
          "name": "stdout",
          "text": [
            "+----------+\n|   Species|\n+----------+\n| virginica|\n|versicolor|\n|    setosa|\n+----------+\n\n"
          ]
        }
      ],
      "source": [
        "#2. Ver valores unicos de la columna Species:\n",
        "unique_species = iris.select(\"Species\").distinct()\n",
        "unique_species.show()"
      ]
    },
    {
      "cell_type": "code",
      "execution_count": null,
      "metadata": {
        "application/vnd.databricks.v1+cell": {
          "cellMetadata": {
            "byteLimit": 2048000,
            "rowLimit": 10000
          },
          "inputWidgets": {},
          "nuid": "61291ba8-7c78-4508-a30e-2bb9fea01cc2",
          "showTitle": false,
          "title": ""
        },
        "id": "cSwsjjc7saOa",
        "outputId": "8567e55c-889f-4ec0-d6ab-abda69b176d7"
      },
      "outputs": [
        {
          "output_type": "stream",
          "name": "stdout",
          "text": [
            "+---+------------+-----------+------------+-----------+----------+\n|_c0|Sepal.Length|Sepal.Width|Petal.Length|Petal.Width|   Species|\n+---+------------+-----------+------------+-----------+----------+\n| 51|         7.0|        3.2|         4.7|        1.4|versicolor|\n| 52|         6.4|        3.2|         4.5|        1.5|versicolor|\n| 53|         6.9|        3.1|         4.9|        1.5|versicolor|\n| 54|         5.5|        2.3|         4.0|        1.3|versicolor|\n| 55|         6.5|        2.8|         4.6|        1.5|versicolor|\n| 56|         5.7|        2.8|         4.5|        1.3|versicolor|\n| 57|         6.3|        3.3|         4.7|        1.6|versicolor|\n| 58|         4.9|        2.4|         3.3|        1.0|versicolor|\n| 59|         6.6|        2.9|         4.6|        1.3|versicolor|\n| 60|         5.2|        2.7|         3.9|        1.4|versicolor|\n| 61|         5.0|        2.0|         3.5|        1.0|versicolor|\n| 62|         5.9|        3.0|         4.2|        1.5|versicolor|\n| 63|         6.0|        2.2|         4.0|        1.0|versicolor|\n| 64|         6.1|        2.9|         4.7|        1.4|versicolor|\n| 65|         5.6|        2.9|         3.6|        1.3|versicolor|\n| 66|         6.7|        3.1|         4.4|        1.4|versicolor|\n| 67|         5.6|        3.0|         4.5|        1.5|versicolor|\n| 68|         5.8|        2.7|         4.1|        1.0|versicolor|\n| 69|         6.2|        2.2|         4.5|        1.5|versicolor|\n| 70|         5.6|        2.5|         3.9|        1.1|versicolor|\n+---+------------+-----------+------------+-----------+----------+\nonly showing top 20 rows\n\n"
          ]
        }
      ],
      "source": [
        "#3. Filtrar y mostrar registros específicos por condiciones especificas:\n",
        "filtered_iris = iris.filter(iris[\"`Petal.Length`\"] > 3.0)\n",
        "filtered_iris.show()"
      ]
    },
    {
      "cell_type": "code",
      "execution_count": null,
      "metadata": {
        "application/vnd.databricks.v1+cell": {
          "cellMetadata": {
            "byteLimit": 2048000,
            "rowLimit": 10000
          },
          "inputWidgets": {},
          "nuid": "f21765ee-bc16-48c8-9482-d771f38dbba7",
          "showTitle": false,
          "title": ""
        },
        "id": "dQSlB8jDsaOb",
        "outputId": "526c944f-3923-48f5-dd03-7fba0f41294d"
      },
      "outputs": [
        {
          "output_type": "stream",
          "name": "stdout",
          "text": [
            "+----------+-----+\n|   Species|count|\n+----------+-----+\n| virginica|   50|\n|versicolor|   50|\n|    setosa|   50|\n+----------+-----+\n\n"
          ]
        }
      ],
      "source": [
        "#4. Agrupar y contar registros por especie:\n",
        "iris.groupBy('Species').count().show()"
      ]
    },
    {
      "cell_type": "code",
      "execution_count": null,
      "metadata": {
        "application/vnd.databricks.v1+cell": {
          "cellMetadata": {
            "byteLimit": 2048000,
            "rowLimit": 10000
          },
          "inputWidgets": {},
          "nuid": "f8f45339-1b40-4739-a8a1-a7800dc83475",
          "showTitle": false,
          "title": ""
        },
        "id": "IaR9NI80saOb",
        "outputId": "5b9ede63-390e-45a2-8c26-ef43335e66ed"
      },
      "outputs": [
        {
          "output_type": "stream",
          "name": "stdout",
          "text": [
            "Correlation matrix:\nDenseMatrix([[ 1.        , -0.11756978,  0.87175378,  0.81794113],\n             [-0.11756978,  1.        , -0.4284401 , -0.36612593],\n             [ 0.87175378, -0.4284401 ,  1.        ,  0.96286543],\n             [ 0.81794113, -0.36612593,  0.96286543,  1.        ]])\n"
          ]
        }
      ],
      "source": [
        "#5. Mirar la matriz de correlacion entre las columnas\n",
        "from pyspark.sql.functions import col\n",
        "\n",
        "# Renombrar las columnas con puntos\n",
        "iris = iris.withColumnRenamed(\"Sepal.Length\", \"Sepal_Length\") \\\n",
        "           .withColumnRenamed(\"Sepal.Width\", \"Sepal_Width\") \\\n",
        "           .withColumnRenamed(\"Petal.Length\", \"Petal_Length\") \\\n",
        "           .withColumnRenamed(\"Petal.Width\", \"Petal_Width\")\n",
        "\n",
        "# Crear el ensamblador con los nombres de columnas actualizados\n",
        "assembler = VectorAssembler(inputCols=[\"Sepal_Length\", \"Sepal_Width\", \"Petal_Length\", \"Petal_Width\"], outputCol=\"features\")\n",
        "iris_assembled = assembler.transform(iris)\n",
        "\n",
        "# Calcular la matriz de correlación\n",
        "corr_matrix = Correlation.corr(iris_assembled, \"features\").head()\n",
        "print(\"Correlation matrix:\")\n",
        "print(corr_matrix[0])\n"
      ]
    },
    {
      "cell_type": "markdown",
      "metadata": {
        "application/vnd.databricks.v1+cell": {
          "cellMetadata": {},
          "inputWidgets": {},
          "nuid": "c367138f-2805-4c9a-956b-16d52ed5fb6d",
          "showTitle": false,
          "title": ""
        },
        "id": "yBDGLaI6saOb"
      },
      "source": [
        "\n",
        "#**Objetivos de las transformaciones**\n",
        "1. Calcular la desviación estándar de las medidas de las flores para cada especie:\n",
        "\n",
        "Objetivo: Esta transformación tiene como objetivo calcular la variabilidad de las medidas (longitud y ancho de sépalos y pétalos) para cada especie de flor de iris. La desviación estándar proporciona una medida de cuán dispersos están los datos alrededor de la media. Esto puede ayudar a identificar cuán uniformes o variables son las medidas para cada especie.\n",
        "\n",
        "2. Calcular la matriz de correlación entre las diferentes medidas:\n",
        "\n",
        "Objetivo: Esta transformación busca cuantificar las relaciones lineales entre las diferentes medidas de las flores. La matriz de correlación proporciona información sobre la fuerza y la dirección de estas relaciones. Esto es útil para comprender cómo las medidas están relacionadas entre sí y si existen patrones de correlación significativos.\n",
        "\n",
        "3. Calcular la media y la mediana de las medidas de las flores para cada especie:\n",
        "\n",
        "Objetivo: Aquí, se calcula tanto la media como la mediana de las medidas de las flores para cada especie. La media proporciona una medida promedio de cada característica, mientras que la mediana da una idea de la tendencia central de los datos. Estas estadísticas resumen la distribución de las medidas para cada especie.\n",
        "\n",
        "4. Contar la cantidad de registros por especie:\n",
        "\n",
        "Objetivo: Esta transformación tiene como objetivo contar cuántos registros hay para cada especie en el conjunto de datos. Proporciona información sobre la distribución de las especies en el conjunto de datos y puede ser útil para comprender la proporción de cada especie.\n",
        "\n",
        "5. Filtrar los registros de iris con longitud del pétalo mayor que 3:\n",
        "\n",
        "Objetivo: Con esta transformación, se filtran los registros de flores de iris cuya longitud del pétalo es mayor que 3 unidades. El objetivo puede ser identificar subconjuntos específicos de datos que cumplan con ciertos criterios de longitud del pétalo para su posterior análisis.\n",
        "\n",
        "6. Calcular la media de la longitud del sépalo para registros con ancho del pétalo mayor que 1:\n",
        "\n",
        "Objetivo: Aquí, se calcula la media de la longitud del sépalo solo para los registros que tienen un ancho del pétalo mayor que 1 unidad. Esto podría ser relevante si se quiere analizar específicamente cómo la longitud del sépalo se relaciona con el ancho del pétalo para ciertos registros.\n",
        "\n",
        "7. Calcular la suma de la longitud del sépalo y el ancho del sépalo para cada especie:\n",
        "\n",
        "Objetivo: Esta transformación busca obtener la suma de la longitud y el ancho del sépalo para cada especie de flor de iris. Esto puede proporcionar información sobre la suma de estas dos características morfológicas para cada especie en el conjunto de datos, lo que podría ser relevante para ciertos análisis.\n",
        "\n"
      ]
    }
  ],
  "metadata": {
    "application/vnd.databricks.v1+notebook": {
      "dashboards": [],
      "language": "python",
      "notebookMetadata": {
        "pythonIndentUnit": 4
      },
      "notebookName": "Taller 1 - SparkSQL - Procesamiento de Datos a Gran Escala",
      "widgets": {}
    },
    "colab": {
      "provenance": []
    },
    "kernelspec": {
      "display_name": "Python 3",
      "name": "python3"
    },
    "language_info": {
      "name": "python"
    }
  },
  "nbformat": 4,
  "nbformat_minor": 0
}